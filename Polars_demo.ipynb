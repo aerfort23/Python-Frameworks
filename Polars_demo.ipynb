{
 "cells": [
  {
   "cell_type": "code",
   "execution_count": 43,
   "metadata": {},
   "outputs": [],
   "source": [
    "import polars as pl\n",
    "import pandas as pd"
   ]
  },
  {
   "attachments": {},
   "cell_type": "markdown",
   "metadata": {},
   "source": [
    "# Eager Quickstart"
   ]
  },
  {
   "cell_type": "code",
   "execution_count": 44,
   "metadata": {},
   "outputs": [],
   "source": [
    "df = pl.read_csv(\"https://j.mp/iriscsv\")"
   ]
  },
  {
   "cell_type": "code",
   "execution_count": 45,
   "metadata": {},
   "outputs": [
    {
     "data": {
      "text/html": [
       "<div><style>\n",
       ".dataframe > thead > tr > th,\n",
       ".dataframe > tbody > tr > td {\n",
       "  text-align: right;\n",
       "}\n",
       "</style>\n",
       "<small>shape: (5, 5)</small><table border=\"1\" class=\"dataframe\"><thead><tr><th>sepal_length</th><th>sepal_width</th><th>petal_length</th><th>petal_width</th><th>species</th></tr><tr><td>f64</td><td>f64</td><td>f64</td><td>f64</td><td>str</td></tr></thead><tbody><tr><td>5.1</td><td>3.5</td><td>1.4</td><td>0.2</td><td>&quot;setosa&quot;</td></tr><tr><td>4.9</td><td>3.0</td><td>1.4</td><td>0.2</td><td>&quot;setosa&quot;</td></tr><tr><td>4.7</td><td>3.2</td><td>1.3</td><td>0.2</td><td>&quot;setosa&quot;</td></tr><tr><td>4.6</td><td>3.1</td><td>1.5</td><td>0.2</td><td>&quot;setosa&quot;</td></tr><tr><td>5.0</td><td>3.6</td><td>1.4</td><td>0.2</td><td>&quot;setosa&quot;</td></tr></tbody></table></div>"
      ],
      "text/plain": [
       "shape: (5, 5)\n",
       "┌──────────────┬─────────────┬──────────────┬─────────────┬─────────┐\n",
       "│ sepal_length ┆ sepal_width ┆ petal_length ┆ petal_width ┆ species │\n",
       "│ ---          ┆ ---         ┆ ---          ┆ ---         ┆ ---     │\n",
       "│ f64          ┆ f64         ┆ f64          ┆ f64         ┆ str     │\n",
       "╞══════════════╪═════════════╪══════════════╪═════════════╪═════════╡\n",
       "│ 5.1          ┆ 3.5         ┆ 1.4          ┆ 0.2         ┆ setosa  │\n",
       "│ 4.9          ┆ 3.0         ┆ 1.4          ┆ 0.2         ┆ setosa  │\n",
       "│ 4.7          ┆ 3.2         ┆ 1.3          ┆ 0.2         ┆ setosa  │\n",
       "│ 4.6          ┆ 3.1         ┆ 1.5          ┆ 0.2         ┆ setosa  │\n",
       "│ 5.0          ┆ 3.6         ┆ 1.4          ┆ 0.2         ┆ setosa  │\n",
       "└──────────────┴─────────────┴──────────────┴─────────────┴─────────┘"
      ]
     },
     "execution_count": 45,
     "metadata": {},
     "output_type": "execute_result"
    }
   ],
   "source": [
    "df.head()"
   ]
  },
  {
   "cell_type": "code",
   "execution_count": 46,
   "metadata": {},
   "outputs": [
    {
     "name": "stdout",
     "output_type": "stream",
     "text": [
      "shape: (3, 5)\n",
      "┌────────────┬──────────────┬─────────────┬──────────────┬─────────────┐\n",
      "│ species    ┆ sepal_length ┆ sepal_width ┆ petal_length ┆ petal_width │\n",
      "│ ---        ┆ ---          ┆ ---         ┆ ---          ┆ ---         │\n",
      "│ str        ┆ f64          ┆ f64         ┆ f64          ┆ f64         │\n",
      "╞════════════╪══════════════╪═════════════╪══════════════╪═════════════╡\n",
      "│ setosa     ┆ 116.9        ┆ 81.7        ┆ 33.2         ┆ 6.1         │\n",
      "│ versicolor ┆ 281.9        ┆ 131.8       ┆ 202.9        ┆ 63.3        │\n",
      "│ virginica  ┆ 324.5        ┆ 146.2       ┆ 273.1        ┆ 99.6        │\n",
      "└────────────┴──────────────┴─────────────┴──────────────┴─────────────┘\n"
     ]
    }
   ],
   "source": [
    "filtered = (\n",
    "    df.filter(pl.col(\"sepal_length\") > 5)\n",
    "    .groupby(\"species\", maintain_order=True)\n",
    "    .agg(pl.all().sum())\n",
    ")\n",
    "\n",
    "print(filtered)"
   ]
  },
  {
   "cell_type": "code",
   "execution_count": 47,
   "metadata": {},
   "outputs": [
    {
     "data": {
      "text/html": [
       "<div><style>\n",
       ".dataframe > thead > tr > th,\n",
       ".dataframe > tbody > tr > td {\n",
       "  text-align: right;\n",
       "}\n",
       "</style>\n",
       "<small>shape: (3, 5)</small><table border=\"1\" class=\"dataframe\"><thead><tr><th>species</th><th>sepal_length</th><th>sepal_width</th><th>petal_length</th><th>petal_width</th></tr><tr><td>str</td><td>f64</td><td>f64</td><td>f64</td><td>f64</td></tr></thead><tbody><tr><td>&quot;setosa&quot;</td><td>116.9</td><td>81.7</td><td>33.2</td><td>6.1</td></tr><tr><td>&quot;versicolor&quot;</td><td>281.9</td><td>131.8</td><td>202.9</td><td>63.3</td></tr><tr><td>&quot;virginica&quot;</td><td>324.5</td><td>146.2</td><td>273.1</td><td>99.6</td></tr></tbody></table></div>"
      ],
      "text/plain": [
       "shape: (3, 5)\n",
       "┌────────────┬──────────────┬─────────────┬──────────────┬─────────────┐\n",
       "│ species    ┆ sepal_length ┆ sepal_width ┆ petal_length ┆ petal_width │\n",
       "│ ---        ┆ ---          ┆ ---         ┆ ---          ┆ ---         │\n",
       "│ str        ┆ f64          ┆ f64         ┆ f64          ┆ f64         │\n",
       "╞════════════╪══════════════╪═════════════╪══════════════╪═════════════╡\n",
       "│ setosa     ┆ 116.9        ┆ 81.7        ┆ 33.2         ┆ 6.1         │\n",
       "│ versicolor ┆ 281.9        ┆ 131.8       ┆ 202.9        ┆ 63.3        │\n",
       "│ virginica  ┆ 324.5        ┆ 146.2       ┆ 273.1        ┆ 99.6        │\n",
       "└────────────┴──────────────┴─────────────┴──────────────┴─────────────┘"
      ]
     },
     "execution_count": 47,
     "metadata": {},
     "output_type": "execute_result"
    }
   ],
   "source": [
    "filtered"
   ]
  },
  {
   "attachments": {},
   "cell_type": "markdown",
   "metadata": {},
   "source": [
    "# Same Filter with Pandas"
   ]
  },
  {
   "cell_type": "code",
   "execution_count": 48,
   "metadata": {},
   "outputs": [
    {
     "data": {
      "text/html": [
       "<div>\n",
       "<style scoped>\n",
       "    .dataframe tbody tr th:only-of-type {\n",
       "        vertical-align: middle;\n",
       "    }\n",
       "\n",
       "    .dataframe tbody tr th {\n",
       "        vertical-align: top;\n",
       "    }\n",
       "\n",
       "    .dataframe thead th {\n",
       "        text-align: right;\n",
       "    }\n",
       "</style>\n",
       "<table border=\"1\" class=\"dataframe\">\n",
       "  <thead>\n",
       "    <tr style=\"text-align: right;\">\n",
       "      <th></th>\n",
       "      <th>sepal_length</th>\n",
       "      <th>sepal_width</th>\n",
       "      <th>petal_length</th>\n",
       "      <th>petal_width</th>\n",
       "    </tr>\n",
       "    <tr>\n",
       "      <th>species</th>\n",
       "      <th></th>\n",
       "      <th></th>\n",
       "      <th></th>\n",
       "      <th></th>\n",
       "    </tr>\n",
       "  </thead>\n",
       "  <tbody>\n",
       "    <tr>\n",
       "      <th>setosa</th>\n",
       "      <td>116.9</td>\n",
       "      <td>81.7</td>\n",
       "      <td>33.2</td>\n",
       "      <td>6.1</td>\n",
       "    </tr>\n",
       "    <tr>\n",
       "      <th>versicolor</th>\n",
       "      <td>281.9</td>\n",
       "      <td>131.8</td>\n",
       "      <td>202.9</td>\n",
       "      <td>63.3</td>\n",
       "    </tr>\n",
       "    <tr>\n",
       "      <th>virginica</th>\n",
       "      <td>324.5</td>\n",
       "      <td>146.2</td>\n",
       "      <td>273.1</td>\n",
       "      <td>99.6</td>\n",
       "    </tr>\n",
       "  </tbody>\n",
       "</table>\n",
       "</div>"
      ],
      "text/plain": [
       "            sepal_length  sepal_width  petal_length  petal_width\n",
       "species                                                         \n",
       "setosa             116.9         81.7          33.2          6.1\n",
       "versicolor         281.9        131.8         202.9         63.3\n",
       "virginica          324.5        146.2         273.1         99.6"
      ]
     },
     "execution_count": 48,
     "metadata": {},
     "output_type": "execute_result"
    }
   ],
   "source": [
    "df = pd.read_csv(\"https://j.mp/iriscsv\")\n",
    "\n",
    "df.query(\"sepal_length > 5\").groupby(\"species\").sum()"
   ]
  },
  {
   "attachments": {},
   "cell_type": "markdown",
   "metadata": {},
   "source": [
    "# Lazy Example"
   ]
  },
  {
   "cell_type": "code",
   "execution_count": 49,
   "metadata": {},
   "outputs": [
    {
     "data": {
      "text/html": [
       "<h4>NAIVE QUERY PLAN</h4><p>run <b>LazyFrame.show_graph()</b> to see the optimized version</p><?xml version=\"1.0\" encoding=\"UTF-8\" standalone=\"no\"?>\r\n",
       "<!DOCTYPE svg PUBLIC \"-//W3C//DTD SVG 1.1//EN\"\r\n",
       " \"http://www.w3.org/Graphics/SVG/1.1/DTD/svg11.dtd\">\r\n",
       "<!-- Generated by graphviz version 2.50.0 (0)\r\n",
       " -->\r\n",
       "<!-- Title: polars_query Pages: 1 -->\r\n",
       "<svg width=\"647pt\" height=\"222pt\"\r\n",
       " viewBox=\"0.00 0.00 647.00 222.00\" xmlns=\"http://www.w3.org/2000/svg\" xmlns:xlink=\"http://www.w3.org/1999/xlink\">\r\n",
       "<g id=\"graph0\" class=\"graph\" transform=\"scale(1 1) rotate(0) translate(4 218)\">\r\n",
       "<title>polars_query</title>\r\n",
       "<polygon fill=\"white\" stroke=\"transparent\" points=\"-4,4 -4,-218 643,-218 643,4 -4,4\"/>\r\n",
       "<!-- AGG [col(&quot;sepal_length&quot;).sum(), col(&quot;sepal_width&quot;).sum(), col(&quot;petal_length&quot;).sum(), col(&quot;petal_width&quot;).sum()]\r\n",
       "BY\r\n",
       "[col(&quot;species&quot;)] [(0, 0)] [(0, 0)] -->\r\n",
       "<g id=\"node1\" class=\"node\">\r\n",
       "<title>AGG [col(&quot;sepal_length&quot;).sum(), col(&quot;sepal_width&quot;).sum(), col(&quot;petal_length&quot;).sum(), col(&quot;petal_width&quot;).sum()]\r\n",
       "BY\r\n",
       "[col(&quot;species&quot;)] [(0, 0)] [(0, 0)]</title>\r\n",
       "<polygon fill=\"none\" stroke=\"black\" points=\"639,-214 0,-214 0,-161 639,-161 639,-214\"/>\r\n",
       "<text text-anchor=\"middle\" x=\"319.5\" y=\"-198.8\" font-family=\"Times New Roman,serif\" font-size=\"14.00\">AGG [col(&quot;sepal_length&quot;).sum(), col(&quot;sepal_width&quot;).sum(), col(&quot;petal_length&quot;).sum(), col(&quot;petal_width&quot;).sum()]</text>\r\n",
       "<text text-anchor=\"middle\" x=\"319.5\" y=\"-183.8\" font-family=\"Times New Roman,serif\" font-size=\"14.00\">BY</text>\r\n",
       "<text text-anchor=\"middle\" x=\"319.5\" y=\"-168.8\" font-family=\"Times New Roman,serif\" font-size=\"14.00\">[col(&quot;species&quot;)] [(0, 0)]</text>\r\n",
       "</g>\r\n",
       "<!-- FILTER BY (col(&quot;sepal_length&quot;)) &gt; (... [(0, 1)] -->\r\n",
       "<g id=\"node2\" class=\"node\">\r\n",
       "<title>FILTER BY (col(&quot;sepal_length&quot;)) &gt; (... [(0, 1)]</title>\r\n",
       "<polygon fill=\"none\" stroke=\"black\" points=\"436.5,-125 202.5,-125 202.5,-89 436.5,-89 436.5,-125\"/>\r\n",
       "<text text-anchor=\"middle\" x=\"319.5\" y=\"-103.3\" font-family=\"Times New Roman,serif\" font-size=\"14.00\">FILTER BY (col(&quot;sepal_length&quot;)) &gt; (...</text>\r\n",
       "</g>\r\n",
       "<!-- AGG [col(&quot;sepal_length&quot;).sum(), col(&quot;sepal_width&quot;).sum(), col(&quot;petal_length&quot;).sum(), col(&quot;petal_width&quot;).sum()]\r\n",
       "BY\r\n",
       "[col(&quot;species&quot;)] [(0, 0)] [(0, 0)]&#45;&#45;FILTER BY (col(&quot;sepal_length&quot;)) &gt; (... [(0, 1)] -->\r\n",
       "<g id=\"edge1\" class=\"edge\">\r\n",
       "<title>AGG [col(&quot;sepal_length&quot;).sum(), col(&quot;sepal_width&quot;).sum(), col(&quot;petal_length&quot;).sum(), col(&quot;petal_width&quot;).sum()]\r\n",
       "BY\r\n",
       "[col(&quot;species&quot;)] [(0, 0)] [(0, 0)]&#45;&#45;FILTER BY (col(&quot;sepal_length&quot;)) &gt; (... [(0, 1)]</title>\r\n",
       "<path fill=\"none\" stroke=\"black\" d=\"M319.5,-160.8C319.5,-149.17 319.5,-135.74 319.5,-125.33\"/>\r\n",
       "</g>\r\n",
       "<!-- TABLE\r\n",
       "π */5;\r\n",
       "σ &#45;; [(0, 2)] -->\r\n",
       "<g id=\"node3\" class=\"node\">\r\n",
       "<title>TABLE\r\n",
       "π */5;\r\n",
       "σ &#45;; [(0, 2)]</title>\r\n",
       "<polygon fill=\"none\" stroke=\"black\" points=\"349,-53 290,-53 290,0 349,0 349,-53\"/>\r\n",
       "<text text-anchor=\"middle\" x=\"319.5\" y=\"-37.8\" font-family=\"Times New Roman,serif\" font-size=\"14.00\">TABLE</text>\r\n",
       "<text text-anchor=\"middle\" x=\"319.5\" y=\"-22.8\" font-family=\"Times New Roman,serif\" font-size=\"14.00\">π */5;</text>\r\n",
       "<text text-anchor=\"middle\" x=\"319.5\" y=\"-7.8\" font-family=\"Times New Roman,serif\" font-size=\"14.00\">σ &#45;;</text>\r\n",
       "</g>\r\n",
       "<!-- FILTER BY (col(&quot;sepal_length&quot;)) &gt; (... [(0, 1)]&#45;&#45;TABLE\r\n",
       "π */5;\r\n",
       "σ &#45;; [(0, 2)] -->\r\n",
       "<g id=\"edge2\" class=\"edge\">\r\n",
       "<title>FILTER BY (col(&quot;sepal_length&quot;)) &gt; (... [(0, 1)]&#45;&#45;TABLE\r\n",
       "π */5;\r\n",
       "σ &#45;; [(0, 2)]</title>\r\n",
       "<path fill=\"none\" stroke=\"black\" d=\"M319.5,-88.97C319.5,-78.51 319.5,-64.9 319.5,-53.16\"/>\r\n",
       "</g>\r\n",
       "</g>\r\n",
       "</svg>\r\n"
      ],
      "text/plain": [
       "<LazyFrame [5 cols, {\"species\": Utf8 … \"petal_width\": Float64}] at 0x253102CBCD0>"
      ]
     },
     "execution_count": 49,
     "metadata": {},
     "output_type": "execute_result"
    }
   ],
   "source": [
    "(\n",
    "    pl.read_csv(\"https://j.mp/iriscsv\")\n",
    "    .lazy()\n",
    "    .filter(pl.col(\"sepal_length\") > 5)\n",
    "    .groupby(\"species\", maintain_order=True)\n",
    "    .agg(pl.all().sum())\n",
    ")"
   ]
  },
  {
   "attachments": {},
   "cell_type": "markdown",
   "metadata": {},
   "source": [
    "\"Collect()\" lässt uns die Abfrage dann anzeigen"
   ]
  },
  {
   "cell_type": "code",
   "execution_count": 50,
   "metadata": {},
   "outputs": [
    {
     "data": {
      "text/html": [
       "<div><style>\n",
       ".dataframe > thead > tr > th,\n",
       ".dataframe > tbody > tr > td {\n",
       "  text-align: right;\n",
       "}\n",
       "</style>\n",
       "<small>shape: (3, 5)</small><table border=\"1\" class=\"dataframe\"><thead><tr><th>species</th><th>sepal_length</th><th>sepal_width</th><th>petal_length</th><th>petal_width</th></tr><tr><td>str</td><td>f64</td><td>f64</td><td>f64</td><td>f64</td></tr></thead><tbody><tr><td>&quot;setosa&quot;</td><td>116.9</td><td>81.7</td><td>33.2</td><td>6.1</td></tr><tr><td>&quot;versicolor&quot;</td><td>281.9</td><td>131.8</td><td>202.9</td><td>63.3</td></tr><tr><td>&quot;virginica&quot;</td><td>324.5</td><td>146.2</td><td>273.1</td><td>99.6</td></tr></tbody></table></div>"
      ],
      "text/plain": [
       "shape: (3, 5)\n",
       "┌────────────┬──────────────┬─────────────┬──────────────┬─────────────┐\n",
       "│ species    ┆ sepal_length ┆ sepal_width ┆ petal_length ┆ petal_width │\n",
       "│ ---        ┆ ---          ┆ ---         ┆ ---          ┆ ---         │\n",
       "│ str        ┆ f64          ┆ f64         ┆ f64          ┆ f64         │\n",
       "╞════════════╪══════════════╪═════════════╪══════════════╪═════════════╡\n",
       "│ setosa     ┆ 116.9        ┆ 81.7        ┆ 33.2         ┆ 6.1         │\n",
       "│ versicolor ┆ 281.9        ┆ 131.8       ┆ 202.9        ┆ 63.3        │\n",
       "│ virginica  ┆ 324.5        ┆ 146.2       ┆ 273.1        ┆ 99.6        │\n",
       "└────────────┴──────────────┴─────────────┴──────────────┴─────────────┘"
      ]
     },
     "execution_count": 50,
     "metadata": {},
     "output_type": "execute_result"
    }
   ],
   "source": [
    "(\n",
    "    pl.read_csv(\"https://j.mp/iriscsv\")\n",
    "    .lazy()\n",
    "    .filter(pl.col(\"sepal_length\") > 5)\n",
    "    .groupby(\"species\", maintain_order=True)\n",
    "    .agg(pl.all().sum())\n",
    "    .collect()\n",
    ")"
   ]
  },
  {
   "attachments": {},
   "cell_type": "markdown",
   "metadata": {},
   "source": [
    "# Polars Basic"
   ]
  },
  {
   "cell_type": "code",
   "execution_count": 51,
   "metadata": {},
   "outputs": [
    {
     "data": {
      "text/html": [
       "<div><style>\n",
       ".dataframe > thead > tr > th,\n",
       ".dataframe > tbody > tr > td {\n",
       "  text-align: right;\n",
       "}\n",
       "</style>\n",
       "<small>shape: (4,)</small><table border=\"1\" class=\"dataframe\"><thead><tr><th></th></tr><tr><td>i64</td></tr></thead><tbody><tr><td>1</td></tr><tr><td>2</td></tr><tr><td>3</td></tr><tr><td>4</td></tr></tbody></table></div>"
      ],
      "text/plain": [
       "shape: (4,)\n",
       "Series: '' [i64]\n",
       "[\n",
       "\t1\n",
       "\t2\n",
       "\t3\n",
       "\t4\n",
       "]"
      ]
     },
     "execution_count": 51,
     "metadata": {},
     "output_type": "execute_result"
    }
   ],
   "source": [
    "pl.Series([1, 2, 3, 4])"
   ]
  },
  {
   "cell_type": "code",
   "execution_count": 52,
   "metadata": {},
   "outputs": [
    {
     "data": {
      "text/html": [
       "<div><style>\n",
       ".dataframe > thead > tr > th,\n",
       ".dataframe > tbody > tr > td {\n",
       "  text-align: right;\n",
       "}\n",
       "</style>\n",
       "<small>shape: (3, 3)</small><table border=\"1\" class=\"dataframe\"><thead><tr><th>integer</th><th>date</th><th>float</th></tr><tr><td>i64</td><td>datetime[μs]</td><td>f64</td></tr></thead><tbody><tr><td>1</td><td>2023-06-27 00:00:00</td><td>4.0</td></tr><tr><td>2</td><td>2023-06-28 00:00:00</td><td>5.0</td></tr><tr><td>3</td><td>2023-06-29 00:00:00</td><td>6.0</td></tr></tbody></table></div>"
      ],
      "text/plain": [
       "shape: (3, 3)\n",
       "┌─────────┬─────────────────────┬───────┐\n",
       "│ integer ┆ date                ┆ float │\n",
       "│ ---     ┆ ---                 ┆ ---   │\n",
       "│ i64     ┆ datetime[μs]        ┆ f64   │\n",
       "╞═════════╪═════════════════════╪═══════╡\n",
       "│ 1       ┆ 2023-06-27 00:00:00 ┆ 4.0   │\n",
       "│ 2       ┆ 2023-06-28 00:00:00 ┆ 5.0   │\n",
       "│ 3       ┆ 2023-06-29 00:00:00 ┆ 6.0   │\n",
       "└─────────┴─────────────────────┴───────┘"
      ]
     },
     "execution_count": 52,
     "metadata": {},
     "output_type": "execute_result"
    }
   ],
   "source": [
    "from datetime import datetime\n",
    "\n",
    "pl.DataFrame(\n",
    "    {\n",
    "        \"integer\": [1, 2, 3],\n",
    "        \"date\": [\n",
    "            (datetime(2023, 6, 27)),\n",
    "            (datetime(2023, 6, 28)),\n",
    "            (datetime(2023, 6, 29)),\n",
    "        ],\n",
    "        \"float\": [4.0, 5.0, 6.0],\n",
    "    }\n",
    ")"
   ]
  },
  {
   "attachments": {},
   "cell_type": "markdown",
   "metadata": {},
   "source": [
    "## Reading CSV"
   ]
  },
  {
   "cell_type": "code",
   "execution_count": 97,
   "metadata": {},
   "outputs": [
    {
     "data": {
      "text/html": [
       "<div><style>\n",
       ".dataframe > thead > tr > th,\n",
       ".dataframe > tbody > tr > td {\n",
       "  text-align: right;\n",
       "}\n",
       "</style>\n",
       "<small>shape: (8_981, 10)</small><table border=\"1\" class=\"dataframe\"><thead><tr><th>Datum</th><th>Eröffnung</th><th>Hoch</th><th>Tief</th><th>Schluss</th><th>Volumen</th><th>Unternehmen</th><th>Branche</th><th>Kalenderwoche</th><th>Sektor</th></tr><tr><td>str</td><td>f64</td><td>f64</td><td>f64</td><td>f64</td><td>i64</td><td>str</td><td>str</td><td>i64</td><td>str</td></tr></thead><tbody><tr><td>&quot;2020-04-30 00:…</td><td>214.7</td><td>217.8</td><td>208.0</td><td>209.2</td><td>1247587</td><td>&quot;Adidas&quot;</td><td>&quot;Sportartikel&quot;</td><td>18</td><td>&quot;Konsumgüter&quot;</td></tr><tr><td>&quot;2020-04-29 00:…</td><td>204.1</td><td>213.6</td><td>199.7</td><td>212.5</td><td>1214197</td><td>&quot;Adidas&quot;</td><td>&quot;Sportartikel&quot;</td><td>18</td><td>&quot;Konsumgüter&quot;</td></tr><tr><td>&quot;2020-04-28 00:…</td><td>207.5</td><td>210.2</td><td>201.5</td><td>205.4</td><td>963143</td><td>&quot;Adidas&quot;</td><td>&quot;Sportartikel&quot;</td><td>18</td><td>&quot;Konsumgüter&quot;</td></tr><tr><td>&quot;2020-04-27 00:…</td><td>198.25</td><td>216.4</td><td>197.2</td><td>206.8</td><td>1409663</td><td>&quot;Adidas&quot;</td><td>&quot;Sportartikel&quot;</td><td>18</td><td>&quot;Konsumgüter&quot;</td></tr><tr><td>&quot;2020-04-24 00:…</td><td>203.6</td><td>207.7</td><td>202.2</td><td>205.4</td><td>878116</td><td>&quot;Adidas&quot;</td><td>&quot;Sportartikel&quot;</td><td>17</td><td>&quot;Konsumgüter&quot;</td></tr><tr><td>&quot;2020-04-23 00:…</td><td>206.5</td><td>210.7</td><td>204.2</td><td>208.4</td><td>930845</td><td>&quot;Adidas&quot;</td><td>&quot;Sportartikel&quot;</td><td>17</td><td>&quot;Konsumgüter&quot;</td></tr><tr><td>&quot;2020-04-22 00:…</td><td>211.6</td><td>212.2</td><td>205.1</td><td>206.8</td><td>886899</td><td>&quot;Adidas&quot;</td><td>&quot;Sportartikel&quot;</td><td>17</td><td>&quot;Konsumgüter&quot;</td></tr><tr><td>&quot;2020-04-21 00:…</td><td>217.8</td><td>220.1</td><td>211.1</td><td>211.2</td><td>1011225</td><td>&quot;Adidas&quot;</td><td>&quot;Sportartikel&quot;</td><td>17</td><td>&quot;Konsumgüter&quot;</td></tr><tr><td>&quot;2020-04-20 00:…</td><td>220.4</td><td>222.8</td><td>217.7</td><td>221.6</td><td>617101</td><td>&quot;Adidas&quot;</td><td>&quot;Sportartikel&quot;</td><td>17</td><td>&quot;Konsumgüter&quot;</td></tr><tr><td>&quot;2020-04-17 00:…</td><td>217.4</td><td>223.5</td><td>216.7</td><td>218.7</td><td>1279772</td><td>&quot;Adidas&quot;</td><td>&quot;Sportartikel&quot;</td><td>16</td><td>&quot;Konsumgüter&quot;</td></tr><tr><td>&quot;2020-04-16 00:…</td><td>214.5</td><td>215.9</td><td>209.6</td><td>211.7</td><td>821745</td><td>&quot;Adidas&quot;</td><td>&quot;Sportartikel&quot;</td><td>16</td><td>&quot;Konsumgüter&quot;</td></tr><tr><td>&quot;2020-04-15 00:…</td><td>222.0</td><td>223.9</td><td>213.6</td><td>214.3</td><td>1038603</td><td>&quot;Adidas&quot;</td><td>&quot;Sportartikel&quot;</td><td>16</td><td>&quot;Konsumgüter&quot;</td></tr><tr><td>&hellip;</td><td>&hellip;</td><td>&hellip;</td><td>&hellip;</td><td>&hellip;</td><td>&hellip;</td><td>&hellip;</td><td>&hellip;</td><td>&hellip;</td><td>&hellip;</td></tr><tr><td>&quot;2020-03-03 00:…</td><td>40.65</td><td>41.73</td><td>40.32</td><td>41.0</td><td>734528</td><td>&quot;Brenntag&quot;</td><td>&quot;Sonstige Branc…</td><td>10</td><td>&quot;Diverse&quot;</td></tr><tr><td>&quot;2020-03-02 00:…</td><td>42.43</td><td>42.43</td><td>39.1</td><td>40.0</td><td>857288</td><td>&quot;Brenntag&quot;</td><td>&quot;Sonstige Branc…</td><td>10</td><td>&quot;Diverse&quot;</td></tr><tr><td>&quot;2020-02-28 00:…</td><td>40.59</td><td>40.94</td><td>39.76</td><td>40.41</td><td>942182</td><td>&quot;Brenntag&quot;</td><td>&quot;Sonstige Branc…</td><td>9</td><td>&quot;Diverse&quot;</td></tr><tr><td>&quot;2020-02-27 00:…</td><td>42.88</td><td>43.25</td><td>41.58</td><td>42.2</td><td>632335</td><td>&quot;Brenntag&quot;</td><td>&quot;Sonstige Branc…</td><td>9</td><td>&quot;Diverse&quot;</td></tr><tr><td>&quot;2020-02-26 00:…</td><td>44.64</td><td>44.64</td><td>42.59</td><td>43.81</td><td>929121</td><td>&quot;Brenntag&quot;</td><td>&quot;Sonstige Branc…</td><td>9</td><td>&quot;Diverse&quot;</td></tr><tr><td>&quot;2020-02-25 00:…</td><td>46.68</td><td>46.78</td><td>44.85</td><td>44.93</td><td>532404</td><td>&quot;Brenntag&quot;</td><td>&quot;Sonstige Branc…</td><td>9</td><td>&quot;Diverse&quot;</td></tr><tr><td>&quot;2020-02-24 00:…</td><td>47.64</td><td>47.64</td><td>45.98</td><td>46.33</td><td>508199</td><td>&quot;Brenntag&quot;</td><td>&quot;Sonstige Branc…</td><td>9</td><td>&quot;Diverse&quot;</td></tr><tr><td>&quot;2020-02-21 00:…</td><td>49.18</td><td>49.52</td><td>48.77</td><td>49.07</td><td>202644</td><td>&quot;Brenntag&quot;</td><td>&quot;Sonstige Branc…</td><td>8</td><td>&quot;Diverse&quot;</td></tr><tr><td>&quot;2020-02-20 00:…</td><td>49.0</td><td>49.68</td><td>48.95</td><td>49.33</td><td>221571</td><td>&quot;Brenntag&quot;</td><td>&quot;Sonstige Branc…</td><td>8</td><td>&quot;Diverse&quot;</td></tr><tr><td>&quot;2020-02-19 00:…</td><td>48.9</td><td>49.07</td><td>48.5</td><td>49.0</td><td>218276</td><td>&quot;Brenntag&quot;</td><td>&quot;Sonstige Branc…</td><td>8</td><td>&quot;Diverse&quot;</td></tr><tr><td>&quot;2020-02-18 00:…</td><td>49.36</td><td>49.4</td><td>48.65</td><td>48.78</td><td>155801</td><td>&quot;Brenntag&quot;</td><td>&quot;Sonstige Branc…</td><td>8</td><td>&quot;Diverse&quot;</td></tr><tr><td>&quot;2020-02-17 00:…</td><td>49.52</td><td>49.87</td><td>49.52</td><td>49.79</td><td>90863</td><td>&quot;Brenntag&quot;</td><td>&quot;Sonstige Branc…</td><td>8</td><td>&quot;Diverse&quot;</td></tr></tbody></table></div>"
      ],
      "text/plain": [
       "shape: (8_981, 10)\n",
       "┌─────────────┬───────────┬───────┬───────┬───┬───────────┬─────────────┬────────────┬─────────────┐\n",
       "│ Datum       ┆ Eröffnung ┆ Hoch  ┆ Tief  ┆ … ┆ Unternehm ┆ Branche     ┆ Kalenderwo ┆ Sektor      │\n",
       "│ ---         ┆ ---       ┆ ---   ┆ ---   ┆   ┆ en        ┆ ---         ┆ che        ┆ ---         │\n",
       "│ str         ┆ f64       ┆ f64   ┆ f64   ┆   ┆ ---       ┆ str         ┆ ---        ┆ str         │\n",
       "│             ┆           ┆       ┆       ┆   ┆ str       ┆             ┆ i64        ┆             │\n",
       "╞═════════════╪═══════════╪═══════╪═══════╪═══╪═══════════╪═════════════╪════════════╪═════════════╡\n",
       "│ 2020-04-30  ┆ 214.7     ┆ 217.8 ┆ 208.0 ┆ … ┆ Adidas    ┆ Sportartike ┆ 18         ┆ Konsumgüter │\n",
       "│ 00:00:00    ┆           ┆       ┆       ┆   ┆           ┆ l           ┆            ┆             │\n",
       "│ 2020-04-29  ┆ 204.1     ┆ 213.6 ┆ 199.7 ┆ … ┆ Adidas    ┆ Sportartike ┆ 18         ┆ Konsumgüter │\n",
       "│ 00:00:00    ┆           ┆       ┆       ┆   ┆           ┆ l           ┆            ┆             │\n",
       "│ 2020-04-28  ┆ 207.5     ┆ 210.2 ┆ 201.5 ┆ … ┆ Adidas    ┆ Sportartike ┆ 18         ┆ Konsumgüter │\n",
       "│ 00:00:00    ┆           ┆       ┆       ┆   ┆           ┆ l           ┆            ┆             │\n",
       "│ 2020-04-27  ┆ 198.25    ┆ 216.4 ┆ 197.2 ┆ … ┆ Adidas    ┆ Sportartike ┆ 18         ┆ Konsumgüter │\n",
       "│ 00:00:00    ┆           ┆       ┆       ┆   ┆           ┆ l           ┆            ┆             │\n",
       "│ …           ┆ …         ┆ …     ┆ …     ┆ … ┆ …         ┆ …           ┆ …          ┆ …           │\n",
       "│ 2020-02-20  ┆ 49.0      ┆ 49.68 ┆ 48.95 ┆ … ┆ Brenntag  ┆ Sonstige    ┆ 8          ┆ Diverse     │\n",
       "│ 00:00:00    ┆           ┆       ┆       ┆   ┆           ┆ Branchen    ┆            ┆             │\n",
       "│ 2020-02-19  ┆ 48.9      ┆ 49.07 ┆ 48.5  ┆ … ┆ Brenntag  ┆ Sonstige    ┆ 8          ┆ Diverse     │\n",
       "│ 00:00:00    ┆           ┆       ┆       ┆   ┆           ┆ Branchen    ┆            ┆             │\n",
       "│ 2020-02-18  ┆ 49.36     ┆ 49.4  ┆ 48.65 ┆ … ┆ Brenntag  ┆ Sonstige    ┆ 8          ┆ Diverse     │\n",
       "│ 00:00:00    ┆           ┆       ┆       ┆   ┆           ┆ Branchen    ┆            ┆             │\n",
       "│ 2020-02-17  ┆ 49.52     ┆ 49.87 ┆ 49.52 ┆ … ┆ Brenntag  ┆ Sonstige    ┆ 8          ┆ Diverse     │\n",
       "│ 00:00:00    ┆           ┆       ┆       ┆   ┆           ┆ Branchen    ┆            ┆             │\n",
       "└─────────────┴───────────┴───────┴───────┴───┴───────────┴─────────────┴────────────┴─────────────┘"
      ]
     },
     "execution_count": 97,
     "metadata": {},
     "output_type": "execute_result"
    }
   ],
   "source": [
    "stock = pl.read_excel(\"data/stock_data.xlsx\")\n",
    "stock"
   ]
  },
  {
   "cell_type": "code",
   "execution_count": 98,
   "metadata": {},
   "outputs": [
    {
     "data": {
      "text/html": [
       "<div><style>\n",
       ".dataframe > thead > tr > th,\n",
       ".dataframe > tbody > tr > td {\n",
       "  text-align: right;\n",
       "}\n",
       "</style>\n",
       "<small>shape: (5, 10)</small><table border=\"1\" class=\"dataframe\"><thead><tr><th>Datum</th><th>Eröffnung</th><th>Hoch</th><th>Tief</th><th>Schluss</th><th>Volumen</th><th>Unternehmen</th><th>Branche</th><th>Kalenderwoche</th><th>Sektor</th></tr><tr><td>str</td><td>f64</td><td>f64</td><td>f64</td><td>f64</td><td>i64</td><td>str</td><td>str</td><td>i64</td><td>str</td></tr></thead><tbody><tr><td>&quot;2020-04-30 00:…</td><td>214.7</td><td>217.8</td><td>208.0</td><td>209.2</td><td>1247587</td><td>&quot;Adidas&quot;</td><td>&quot;Sportartikel&quot;</td><td>18</td><td>&quot;Konsumgüter&quot;</td></tr><tr><td>&quot;2020-04-29 00:…</td><td>204.1</td><td>213.6</td><td>199.7</td><td>212.5</td><td>1214197</td><td>&quot;Adidas&quot;</td><td>&quot;Sportartikel&quot;</td><td>18</td><td>&quot;Konsumgüter&quot;</td></tr><tr><td>&quot;2020-04-28 00:…</td><td>207.5</td><td>210.2</td><td>201.5</td><td>205.4</td><td>963143</td><td>&quot;Adidas&quot;</td><td>&quot;Sportartikel&quot;</td><td>18</td><td>&quot;Konsumgüter&quot;</td></tr><tr><td>&quot;2020-04-27 00:…</td><td>198.25</td><td>216.4</td><td>197.2</td><td>206.8</td><td>1409663</td><td>&quot;Adidas&quot;</td><td>&quot;Sportartikel&quot;</td><td>18</td><td>&quot;Konsumgüter&quot;</td></tr><tr><td>&quot;2020-04-24 00:…</td><td>203.6</td><td>207.7</td><td>202.2</td><td>205.4</td><td>878116</td><td>&quot;Adidas&quot;</td><td>&quot;Sportartikel&quot;</td><td>17</td><td>&quot;Konsumgüter&quot;</td></tr></tbody></table></div>"
      ],
      "text/plain": [
       "shape: (5, 10)\n",
       "┌─────────────┬───────────┬───────┬───────┬───┬───────────┬─────────────┬────────────┬─────────────┐\n",
       "│ Datum       ┆ Eröffnung ┆ Hoch  ┆ Tief  ┆ … ┆ Unternehm ┆ Branche     ┆ Kalenderwo ┆ Sektor      │\n",
       "│ ---         ┆ ---       ┆ ---   ┆ ---   ┆   ┆ en        ┆ ---         ┆ che        ┆ ---         │\n",
       "│ str         ┆ f64       ┆ f64   ┆ f64   ┆   ┆ ---       ┆ str         ┆ ---        ┆ str         │\n",
       "│             ┆           ┆       ┆       ┆   ┆ str       ┆             ┆ i64        ┆             │\n",
       "╞═════════════╪═══════════╪═══════╪═══════╪═══╪═══════════╪═════════════╪════════════╪═════════════╡\n",
       "│ 2020-04-30  ┆ 214.7     ┆ 217.8 ┆ 208.0 ┆ … ┆ Adidas    ┆ Sportartike ┆ 18         ┆ Konsumgüter │\n",
       "│ 00:00:00    ┆           ┆       ┆       ┆   ┆           ┆ l           ┆            ┆             │\n",
       "│ 2020-04-29  ┆ 204.1     ┆ 213.6 ┆ 199.7 ┆ … ┆ Adidas    ┆ Sportartike ┆ 18         ┆ Konsumgüter │\n",
       "│ 00:00:00    ┆           ┆       ┆       ┆   ┆           ┆ l           ┆            ┆             │\n",
       "│ 2020-04-28  ┆ 207.5     ┆ 210.2 ┆ 201.5 ┆ … ┆ Adidas    ┆ Sportartike ┆ 18         ┆ Konsumgüter │\n",
       "│ 00:00:00    ┆           ┆       ┆       ┆   ┆           ┆ l           ┆            ┆             │\n",
       "│ 2020-04-27  ┆ 198.25    ┆ 216.4 ┆ 197.2 ┆ … ┆ Adidas    ┆ Sportartike ┆ 18         ┆ Konsumgüter │\n",
       "│ 00:00:00    ┆           ┆       ┆       ┆   ┆           ┆ l           ┆            ┆             │\n",
       "│ 2020-04-24  ┆ 203.6     ┆ 207.7 ┆ 202.2 ┆ … ┆ Adidas    ┆ Sportartike ┆ 17         ┆ Konsumgüter │\n",
       "│ 00:00:00    ┆           ┆       ┆       ┆   ┆           ┆ l           ┆            ┆             │\n",
       "└─────────────┴───────────┴───────┴───────┴───┴───────────┴─────────────┴────────────┴─────────────┘"
      ]
     },
     "execution_count": 98,
     "metadata": {},
     "output_type": "execute_result"
    }
   ],
   "source": [
    "stock.head()"
   ]
  },
  {
   "cell_type": "code",
   "execution_count": 99,
   "metadata": {},
   "outputs": [
    {
     "data": {
      "text/html": [
       "<div><style>\n",
       ".dataframe > thead > tr > th,\n",
       ".dataframe > tbody > tr > td {\n",
       "  text-align: right;\n",
       "}\n",
       "</style>\n",
       "<small>shape: (5, 10)</small><table border=\"1\" class=\"dataframe\"><thead><tr><th>Datum</th><th>Eröffnung</th><th>Hoch</th><th>Tief</th><th>Schluss</th><th>Volumen</th><th>Unternehmen</th><th>Branche</th><th>Kalenderwoche</th><th>Sektor</th></tr><tr><td>str</td><td>f64</td><td>f64</td><td>f64</td><td>f64</td><td>i64</td><td>str</td><td>str</td><td>i64</td><td>str</td></tr></thead><tbody><tr><td>&quot;2020-02-21 00:…</td><td>49.18</td><td>49.52</td><td>48.77</td><td>49.07</td><td>202644</td><td>&quot;Brenntag&quot;</td><td>&quot;Sonstige Branc…</td><td>8</td><td>&quot;Diverse&quot;</td></tr><tr><td>&quot;2020-02-20 00:…</td><td>49.0</td><td>49.68</td><td>48.95</td><td>49.33</td><td>221571</td><td>&quot;Brenntag&quot;</td><td>&quot;Sonstige Branc…</td><td>8</td><td>&quot;Diverse&quot;</td></tr><tr><td>&quot;2020-02-19 00:…</td><td>48.9</td><td>49.07</td><td>48.5</td><td>49.0</td><td>218276</td><td>&quot;Brenntag&quot;</td><td>&quot;Sonstige Branc…</td><td>8</td><td>&quot;Diverse&quot;</td></tr><tr><td>&quot;2020-02-18 00:…</td><td>49.36</td><td>49.4</td><td>48.65</td><td>48.78</td><td>155801</td><td>&quot;Brenntag&quot;</td><td>&quot;Sonstige Branc…</td><td>8</td><td>&quot;Diverse&quot;</td></tr><tr><td>&quot;2020-02-17 00:…</td><td>49.52</td><td>49.87</td><td>49.52</td><td>49.79</td><td>90863</td><td>&quot;Brenntag&quot;</td><td>&quot;Sonstige Branc…</td><td>8</td><td>&quot;Diverse&quot;</td></tr></tbody></table></div>"
      ],
      "text/plain": [
       "shape: (5, 10)\n",
       "┌────────────┬───────────┬───────┬───────┬───┬─────────────┬──────────┬────────────┬─────────┐\n",
       "│ Datum      ┆ Eröffnung ┆ Hoch  ┆ Tief  ┆ … ┆ Unternehmen ┆ Branche  ┆ Kalenderwo ┆ Sektor  │\n",
       "│ ---        ┆ ---       ┆ ---   ┆ ---   ┆   ┆ ---         ┆ ---      ┆ che        ┆ ---     │\n",
       "│ str        ┆ f64       ┆ f64   ┆ f64   ┆   ┆ str         ┆ str      ┆ ---        ┆ str     │\n",
       "│            ┆           ┆       ┆       ┆   ┆             ┆          ┆ i64        ┆         │\n",
       "╞════════════╪═══════════╪═══════╪═══════╪═══╪═════════════╪══════════╪════════════╪═════════╡\n",
       "│ 2020-02-21 ┆ 49.18     ┆ 49.52 ┆ 48.77 ┆ … ┆ Brenntag    ┆ Sonstige ┆ 8          ┆ Diverse │\n",
       "│ 00:00:00   ┆           ┆       ┆       ┆   ┆             ┆ Branchen ┆            ┆         │\n",
       "│ 2020-02-20 ┆ 49.0      ┆ 49.68 ┆ 48.95 ┆ … ┆ Brenntag    ┆ Sonstige ┆ 8          ┆ Diverse │\n",
       "│ 00:00:00   ┆           ┆       ┆       ┆   ┆             ┆ Branchen ┆            ┆         │\n",
       "│ 2020-02-19 ┆ 48.9      ┆ 49.07 ┆ 48.5  ┆ … ┆ Brenntag    ┆ Sonstige ┆ 8          ┆ Diverse │\n",
       "│ 00:00:00   ┆           ┆       ┆       ┆   ┆             ┆ Branchen ┆            ┆         │\n",
       "│ 2020-02-18 ┆ 49.36     ┆ 49.4  ┆ 48.65 ┆ … ┆ Brenntag    ┆ Sonstige ┆ 8          ┆ Diverse │\n",
       "│ 00:00:00   ┆           ┆       ┆       ┆   ┆             ┆ Branchen ┆            ┆         │\n",
       "│ 2020-02-17 ┆ 49.52     ┆ 49.87 ┆ 49.52 ┆ … ┆ Brenntag    ┆ Sonstige ┆ 8          ┆ Diverse │\n",
       "│ 00:00:00   ┆           ┆       ┆       ┆   ┆             ┆ Branchen ┆            ┆         │\n",
       "└────────────┴───────────┴───────┴───────┴───┴─────────────┴──────────┴────────────┴─────────┘"
      ]
     },
     "execution_count": 99,
     "metadata": {},
     "output_type": "execute_result"
    }
   ],
   "source": [
    "stock.tail()"
   ]
  },
  {
   "cell_type": "code",
   "execution_count": 100,
   "metadata": {},
   "outputs": [
    {
     "data": {
      "text/html": [
       "<div><style>\n",
       ".dataframe > thead > tr > th,\n",
       ".dataframe > tbody > tr > td {\n",
       "  text-align: right;\n",
       "}\n",
       "</style>\n",
       "<small>shape: (9, 11)</small><table border=\"1\" class=\"dataframe\"><thead><tr><th>describe</th><th>Datum</th><th>Eröffnung</th><th>Hoch</th><th>Tief</th><th>Schluss</th><th>Volumen</th><th>Unternehmen</th><th>Branche</th><th>Kalenderwoche</th><th>Sektor</th></tr><tr><td>str</td><td>str</td><td>f64</td><td>f64</td><td>f64</td><td>f64</td><td>f64</td><td>str</td><td>str</td><td>f64</td><td>str</td></tr></thead><tbody><tr><td>&quot;count&quot;</td><td>&quot;8981&quot;</td><td>8981.0</td><td>8981.0</td><td>8981.0</td><td>8981.0</td><td>8981.0</td><td>&quot;8981&quot;</td><td>&quot;8981&quot;</td><td>8981.0</td><td>&quot;8981&quot;</td></tr><tr><td>&quot;null_count&quot;</td><td>&quot;0&quot;</td><td>0.0</td><td>0.0</td><td>0.0</td><td>0.0</td><td>0.0</td><td>&quot;0&quot;</td><td>&quot;0&quot;</td><td>0.0</td><td>&quot;156&quot;</td></tr><tr><td>&quot;mean&quot;</td><td>null</td><td>50.199446</td><td>51.325227</td><td>48.749443</td><td>49.942748</td><td>1.3109e6</td><td>null</td><td>null</td><td>12.802361</td><td>null</td></tr><tr><td>&quot;std&quot;</td><td>null</td><td>61.780144</td><td>62.975705</td><td>60.096731</td><td>61.416832</td><td>4.2253e6</td><td>null</td><td>null</td><td>3.130534</td><td>null</td></tr><tr><td>&quot;min&quot;</td><td>&quot;2020-02-17 00:…</td><td>0.046</td><td>0.0465</td><td>0.0421</td><td>0.0462</td><td>0.0</td><td>&quot;1&amp;1 Drillisch&quot;</td><td>&quot;Automobilprodu…</td><td>8.0</td><td>&quot;Bauindustrie&quot;</td></tr><tr><td>&quot;max&quot;</td><td>&quot;2020-05-01 00:…</td><td>665.0</td><td>669.0</td><td>659.5</td><td>661.0</td><td>7.857649e7</td><td>&quot;zooplus&quot;</td><td>&quot;Versicherungen…</td><td>18.0</td><td>&quot;Versorger&quot;</td></tr><tr><td>&quot;median&quot;</td><td>null</td><td>31.88</td><td>32.72</td><td>30.8</td><td>31.64</td><td>263620.0</td><td>null</td><td>null</td><td>13.0</td><td>null</td></tr><tr><td>&quot;25%&quot;</td><td>null</td><td>15.4</td><td>15.86</td><td>14.795</td><td>15.27</td><td>76742.0</td><td>null</td><td>null</td><td>10.0</td><td>null</td></tr><tr><td>&quot;75%&quot;</td><td>null</td><td>60.95</td><td>62.3</td><td>59.06</td><td>60.4</td><td>738807.0</td><td>null</td><td>null</td><td>15.0</td><td>null</td></tr></tbody></table></div>"
      ],
      "text/plain": [
       "shape: (9, 11)\n",
       "┌───────────┬───────────┬──────────┬───────────┬───┬───────────┬───────────┬────────────┬──────────┐\n",
       "│ describe  ┆ Datum     ┆ Eröffnun ┆ Hoch      ┆ … ┆ Unternehm ┆ Branche   ┆ Kalenderwo ┆ Sektor   │\n",
       "│ ---       ┆ ---       ┆ g        ┆ ---       ┆   ┆ en        ┆ ---       ┆ che        ┆ ---      │\n",
       "│ str       ┆ str       ┆ ---      ┆ f64       ┆   ┆ ---       ┆ str       ┆ ---        ┆ str      │\n",
       "│           ┆           ┆ f64      ┆           ┆   ┆ str       ┆           ┆ f64        ┆          │\n",
       "╞═══════════╪═══════════╪══════════╪═══════════╪═══╪═══════════╪═══════════╪════════════╪══════════╡\n",
       "│ count     ┆ 8981      ┆ 8981.0   ┆ 8981.0    ┆ … ┆ 8981      ┆ 8981      ┆ 8981.0     ┆ 8981     │\n",
       "│ null_coun ┆ 0         ┆ 0.0      ┆ 0.0       ┆ … ┆ 0         ┆ 0         ┆ 0.0        ┆ 156      │\n",
       "│ t         ┆           ┆          ┆           ┆   ┆           ┆           ┆            ┆          │\n",
       "│ mean      ┆ null      ┆ 50.19944 ┆ 51.325227 ┆ … ┆ null      ┆ null      ┆ 12.802361  ┆ null     │\n",
       "│           ┆           ┆ 6        ┆           ┆   ┆           ┆           ┆            ┆          │\n",
       "│ std       ┆ null      ┆ 61.78014 ┆ 62.975705 ┆ … ┆ null      ┆ null      ┆ 3.130534   ┆ null     │\n",
       "│           ┆           ┆ 4        ┆           ┆   ┆           ┆           ┆            ┆          │\n",
       "│ min       ┆ 2020-02-1 ┆ 0.046    ┆ 0.0465    ┆ … ┆ 1&1       ┆ Automobil ┆ 8.0        ┆ Bauindus │\n",
       "│           ┆ 7         ┆          ┆           ┆   ┆ Drillisch ┆ produktio ┆            ┆ trie     │\n",
       "│           ┆ 00:00:00  ┆          ┆           ┆   ┆           ┆ n         ┆            ┆          │\n",
       "│ max       ┆ 2020-05-0 ┆ 665.0    ┆ 669.0     ┆ … ┆ zooplus   ┆ Versicher ┆ 18.0       ┆ Versorge │\n",
       "│           ┆ 1         ┆          ┆           ┆   ┆           ┆ ungen     ┆            ┆ r        │\n",
       "│           ┆ 00:00:00  ┆          ┆           ┆   ┆           ┆           ┆            ┆          │\n",
       "│ median    ┆ null      ┆ 31.88    ┆ 32.72     ┆ … ┆ null      ┆ null      ┆ 13.0       ┆ null     │\n",
       "│ 25%       ┆ null      ┆ 15.4     ┆ 15.86     ┆ … ┆ null      ┆ null      ┆ 10.0       ┆ null     │\n",
       "│ 75%       ┆ null      ┆ 60.95    ┆ 62.3      ┆ … ┆ null      ┆ null      ┆ 15.0       ┆ null     │\n",
       "└───────────┴───────────┴──────────┴───────────┴───┴───────────┴───────────┴────────────┴──────────┘"
      ]
     },
     "execution_count": 100,
     "metadata": {},
     "output_type": "execute_result"
    }
   ],
   "source": [
    "stock.describe()"
   ]
  },
  {
   "cell_type": "code",
   "execution_count": 101,
   "metadata": {},
   "outputs": [
    {
     "data": {
      "text/html": [
       "<div><style>\n",
       ".dataframe > thead > tr > th,\n",
       ".dataframe > tbody > tr > td {\n",
       "  text-align: right;\n",
       "}\n",
       "</style>\n",
       "<small>shape: (2, 10)</small><table border=\"1\" class=\"dataframe\"><thead><tr><th>Datum</th><th>Eröffnung</th><th>Hoch</th><th>Tief</th><th>Schluss</th><th>Volumen</th><th>Unternehmen</th><th>Branche</th><th>Kalenderwoche</th><th>Sektor</th></tr><tr><td>str</td><td>f64</td><td>f64</td><td>f64</td><td>f64</td><td>i64</td><td>str</td><td>str</td><td>i64</td><td>str</td></tr></thead><tbody><tr><td>&quot;2020-03-12 00:…</td><td>42.85</td><td>43.0</td><td>40.0</td><td>40.15</td><td>24530</td><td>&quot;WashTec&quot;</td><td>&quot;Sonstige Kraft…</td><td>11</td><td>&quot;Kraftfahrzeugi…</td></tr><tr><td>&quot;2020-04-15 00:…</td><td>25.1</td><td>25.6</td><td>25.1</td><td>25.6</td><td>7216</td><td>&quot;McKesson Europ…</td><td>&quot;Pharmahandel&quot;</td><td>16</td><td>&quot;Chemie / Pharm…</td></tr></tbody></table></div>"
      ],
      "text/plain": [
       "shape: (2, 10)\n",
       "┌──────────────┬───────────┬──────┬──────┬───┬───────────┬──────────────┬────────────┬─────────────┐\n",
       "│ Datum        ┆ Eröffnung ┆ Hoch ┆ Tief ┆ … ┆ Unternehm ┆ Branche      ┆ Kalenderwo ┆ Sektor      │\n",
       "│ ---          ┆ ---       ┆ ---  ┆ ---  ┆   ┆ en        ┆ ---          ┆ che        ┆ ---         │\n",
       "│ str          ┆ f64       ┆ f64  ┆ f64  ┆   ┆ ---       ┆ str          ┆ ---        ┆ str         │\n",
       "│              ┆           ┆      ┆      ┆   ┆ str       ┆              ┆ i64        ┆             │\n",
       "╞══════════════╪═══════════╪══════╪══════╪═══╪═══════════╪══════════════╪════════════╪═════════════╡\n",
       "│ 2020-03-12   ┆ 42.85     ┆ 43.0 ┆ 40.0 ┆ … ┆ WashTec   ┆ Sonstige Kra ┆ 11         ┆ Kraftfahrze │\n",
       "│ 00:00:00     ┆           ┆      ┆      ┆   ┆           ┆ ftfahrzeugin ┆            ┆ ugindustrie │\n",
       "│              ┆           ┆      ┆      ┆   ┆           ┆ dustrie      ┆            ┆             │\n",
       "│ 2020-04-15   ┆ 25.1      ┆ 25.6 ┆ 25.1 ┆ … ┆ McKesson  ┆ Pharmahandel ┆ 16         ┆ Chemie /    │\n",
       "│ 00:00:00     ┆           ┆      ┆      ┆   ┆ Europe    ┆              ┆            ┆ Pharma /    │\n",
       "│              ┆           ┆      ┆      ┆   ┆           ┆              ┆            ┆ Gesundheit  │\n",
       "└──────────────┴───────────┴──────┴──────┴───┴───────────┴──────────────┴────────────┴─────────────┘"
      ]
     },
     "execution_count": 101,
     "metadata": {},
     "output_type": "execute_result"
    }
   ],
   "source": [
    "stock.sample(2)"
   ]
  },
  {
   "cell_type": "code",
   "execution_count": 102,
   "metadata": {},
   "outputs": [
    {
     "data": {
      "text/html": [
       "<div><style>\n",
       ".dataframe > thead > tr > th,\n",
       ".dataframe > tbody > tr > td {\n",
       "  text-align: right;\n",
       "}\n",
       "</style>\n",
       "<small>shape: (5, 10)</small><table border=\"1\" class=\"dataframe\"><thead><tr><th>Datum</th><th>Eröffnung</th><th>Hoch</th><th>Tief</th><th>Schluss</th><th>Volumen</th><th>Unternehmen</th><th>Branche</th><th>Kalenderwoche</th><th>Sektor</th></tr><tr><td>str</td><td>f64</td><td>f64</td><td>f64</td><td>f64</td><td>i64</td><td>str</td><td>str</td><td>i64</td><td>str</td></tr></thead><tbody><tr><td>&quot;2020-04-30 00:…</td><td>214.7</td><td>217.8</td><td>208.0</td><td>209.2</td><td>1247587</td><td>&quot;Adidas&quot;</td><td>&quot;Sportartikel&quot;</td><td>18</td><td>&quot;Konsumgüter&quot;</td></tr><tr><td>&quot;2020-04-29 00:…</td><td>204.1</td><td>213.6</td><td>199.7</td><td>212.5</td><td>1214197</td><td>&quot;Adidas&quot;</td><td>&quot;Sportartikel&quot;</td><td>18</td><td>&quot;Konsumgüter&quot;</td></tr><tr><td>&quot;2020-04-28 00:…</td><td>207.5</td><td>210.2</td><td>201.5</td><td>205.4</td><td>963143</td><td>&quot;Adidas&quot;</td><td>&quot;Sportartikel&quot;</td><td>18</td><td>&quot;Konsumgüter&quot;</td></tr><tr><td>&quot;2020-04-27 00:…</td><td>198.25</td><td>216.4</td><td>197.2</td><td>206.8</td><td>1409663</td><td>&quot;Adidas&quot;</td><td>&quot;Sportartikel&quot;</td><td>18</td><td>&quot;Konsumgüter&quot;</td></tr><tr><td>&quot;2020-04-24 00:…</td><td>203.6</td><td>207.7</td><td>202.2</td><td>205.4</td><td>878116</td><td>&quot;Adidas&quot;</td><td>&quot;Sportartikel&quot;</td><td>17</td><td>&quot;Konsumgüter&quot;</td></tr></tbody></table></div>"
      ],
      "text/plain": [
       "shape: (5, 10)\n",
       "┌─────────────┬───────────┬───────┬───────┬───┬───────────┬─────────────┬────────────┬─────────────┐\n",
       "│ Datum       ┆ Eröffnung ┆ Hoch  ┆ Tief  ┆ … ┆ Unternehm ┆ Branche     ┆ Kalenderwo ┆ Sektor      │\n",
       "│ ---         ┆ ---       ┆ ---   ┆ ---   ┆   ┆ en        ┆ ---         ┆ che        ┆ ---         │\n",
       "│ str         ┆ f64       ┆ f64   ┆ f64   ┆   ┆ ---       ┆ str         ┆ ---        ┆ str         │\n",
       "│             ┆           ┆       ┆       ┆   ┆ str       ┆             ┆ i64        ┆             │\n",
       "╞═════════════╪═══════════╪═══════╪═══════╪═══╪═══════════╪═════════════╪════════════╪═════════════╡\n",
       "│ 2020-04-30  ┆ 214.7     ┆ 217.8 ┆ 208.0 ┆ … ┆ Adidas    ┆ Sportartike ┆ 18         ┆ Konsumgüter │\n",
       "│ 00:00:00    ┆           ┆       ┆       ┆   ┆           ┆ l           ┆            ┆             │\n",
       "│ 2020-04-29  ┆ 204.1     ┆ 213.6 ┆ 199.7 ┆ … ┆ Adidas    ┆ Sportartike ┆ 18         ┆ Konsumgüter │\n",
       "│ 00:00:00    ┆           ┆       ┆       ┆   ┆           ┆ l           ┆            ┆             │\n",
       "│ 2020-04-28  ┆ 207.5     ┆ 210.2 ┆ 201.5 ┆ … ┆ Adidas    ┆ Sportartike ┆ 18         ┆ Konsumgüter │\n",
       "│ 00:00:00    ┆           ┆       ┆       ┆   ┆           ┆ l           ┆            ┆             │\n",
       "│ 2020-04-27  ┆ 198.25    ┆ 216.4 ┆ 197.2 ┆ … ┆ Adidas    ┆ Sportartike ┆ 18         ┆ Konsumgüter │\n",
       "│ 00:00:00    ┆           ┆       ┆       ┆   ┆           ┆ l           ┆            ┆             │\n",
       "│ 2020-04-24  ┆ 203.6     ┆ 207.7 ┆ 202.2 ┆ … ┆ Adidas    ┆ Sportartike ┆ 17         ┆ Konsumgüter │\n",
       "│ 00:00:00    ┆           ┆       ┆       ┆   ┆           ┆ l           ┆            ┆             │\n",
       "└─────────────┴───────────┴───────┴───────┴───┴───────────┴─────────────┴────────────┴─────────────┘"
      ]
     },
     "execution_count": 102,
     "metadata": {},
     "output_type": "execute_result"
    }
   ],
   "source": [
    "stock.select(pl.col(\"*\")).head()"
   ]
  },
  {
   "cell_type": "code",
   "execution_count": 104,
   "metadata": {},
   "outputs": [
    {
     "data": {
      "text/html": [
       "<div><style>\n",
       ".dataframe > thead > tr > th,\n",
       ".dataframe > tbody > tr > td {\n",
       "  text-align: right;\n",
       "}\n",
       "</style>\n",
       "<small>shape: (5, 1)</small><table border=\"1\" class=\"dataframe\"><thead><tr><th>Schluss</th></tr><tr><td>f64</td></tr></thead><tbody><tr><td>209.2</td></tr><tr><td>212.5</td></tr><tr><td>205.4</td></tr><tr><td>206.8</td></tr><tr><td>205.4</td></tr></tbody></table></div>"
      ],
      "text/plain": [
       "shape: (5, 1)\n",
       "┌─────────┐\n",
       "│ Schluss │\n",
       "│ ---     │\n",
       "│ f64     │\n",
       "╞═════════╡\n",
       "│ 209.2   │\n",
       "│ 212.5   │\n",
       "│ 205.4   │\n",
       "│ 206.8   │\n",
       "│ 205.4   │\n",
       "└─────────┘"
      ]
     },
     "execution_count": 104,
     "metadata": {},
     "output_type": "execute_result"
    }
   ],
   "source": [
    "stock.select(pl.col([\"Schluss\"])).head()"
   ]
  },
  {
   "cell_type": "code",
   "execution_count": 105,
   "metadata": {},
   "outputs": [
    {
     "data": {
      "text/html": [
       "<div><style>\n",
       ".dataframe > thead > tr > th,\n",
       ".dataframe > tbody > tr > td {\n",
       "  text-align: right;\n",
       "}\n",
       "</style>\n",
       "<small>shape: (5, 2)</small><table border=\"1\" class=\"dataframe\"><thead><tr><th>Datum</th><th>Eröffnung</th></tr><tr><td>str</td><td>f64</td></tr></thead><tbody><tr><td>&quot;2020-04-30 00:…</td><td>214.7</td></tr><tr><td>&quot;2020-04-29 00:…</td><td>204.1</td></tr><tr><td>&quot;2020-04-28 00:…</td><td>207.5</td></tr><tr><td>&quot;2020-04-27 00:…</td><td>198.25</td></tr><tr><td>&quot;2020-04-24 00:…</td><td>203.6</td></tr></tbody></table></div>"
      ],
      "text/plain": [
       "shape: (5, 2)\n",
       "┌─────────────────────┬───────────┐\n",
       "│ Datum               ┆ Eröffnung │\n",
       "│ ---                 ┆ ---       │\n",
       "│ str                 ┆ f64       │\n",
       "╞═════════════════════╪═══════════╡\n",
       "│ 2020-04-30 00:00:00 ┆ 214.7     │\n",
       "│ 2020-04-29 00:00:00 ┆ 204.1     │\n",
       "│ 2020-04-28 00:00:00 ┆ 207.5     │\n",
       "│ 2020-04-27 00:00:00 ┆ 198.25    │\n",
       "│ 2020-04-24 00:00:00 ┆ 203.6     │\n",
       "└─────────────────────┴───────────┘"
      ]
     },
     "execution_count": 105,
     "metadata": {},
     "output_type": "execute_result"
    }
   ],
   "source": [
    "stock.select(pl.col([\"Datum\", \"Eröffnung\"])).head()"
   ]
  },
  {
   "cell_type": "code",
   "execution_count": 107,
   "metadata": {},
   "outputs": [
    {
     "data": {
      "text/html": [
       "<div><style>\n",
       ".dataframe > thead > tr > th,\n",
       ".dataframe > tbody > tr > td {\n",
       "  text-align: right;\n",
       "}\n",
       "</style>\n",
       "<small>shape: (5, 9)</small><table border=\"1\" class=\"dataframe\"><thead><tr><th>Datum</th><th>Eröffnung</th><th>Hoch</th><th>Tief</th><th>Schluss</th><th>Unternehmen</th><th>Branche</th><th>Kalenderwoche</th><th>Sektor</th></tr><tr><td>str</td><td>f64</td><td>f64</td><td>f64</td><td>f64</td><td>str</td><td>str</td><td>i64</td><td>str</td></tr></thead><tbody><tr><td>&quot;2020-04-30 00:…</td><td>214.7</td><td>217.8</td><td>208.0</td><td>209.2</td><td>&quot;Adidas&quot;</td><td>&quot;Sportartikel&quot;</td><td>18</td><td>&quot;Konsumgüter&quot;</td></tr><tr><td>&quot;2020-04-29 00:…</td><td>204.1</td><td>213.6</td><td>199.7</td><td>212.5</td><td>&quot;Adidas&quot;</td><td>&quot;Sportartikel&quot;</td><td>18</td><td>&quot;Konsumgüter&quot;</td></tr><tr><td>&quot;2020-04-28 00:…</td><td>207.5</td><td>210.2</td><td>201.5</td><td>205.4</td><td>&quot;Adidas&quot;</td><td>&quot;Sportartikel&quot;</td><td>18</td><td>&quot;Konsumgüter&quot;</td></tr><tr><td>&quot;2020-04-27 00:…</td><td>198.25</td><td>216.4</td><td>197.2</td><td>206.8</td><td>&quot;Adidas&quot;</td><td>&quot;Sportartikel&quot;</td><td>18</td><td>&quot;Konsumgüter&quot;</td></tr><tr><td>&quot;2020-04-24 00:…</td><td>203.6</td><td>207.7</td><td>202.2</td><td>205.4</td><td>&quot;Adidas&quot;</td><td>&quot;Sportartikel&quot;</td><td>17</td><td>&quot;Konsumgüter&quot;</td></tr></tbody></table></div>"
      ],
      "text/plain": [
       "shape: (5, 9)\n",
       "┌─────────────┬───────────┬───────┬───────┬───┬───────────┬─────────────┬────────────┬─────────────┐\n",
       "│ Datum       ┆ Eröffnung ┆ Hoch  ┆ Tief  ┆ … ┆ Unternehm ┆ Branche     ┆ Kalenderwo ┆ Sektor      │\n",
       "│ ---         ┆ ---       ┆ ---   ┆ ---   ┆   ┆ en        ┆ ---         ┆ che        ┆ ---         │\n",
       "│ str         ┆ f64       ┆ f64   ┆ f64   ┆   ┆ ---       ┆ str         ┆ ---        ┆ str         │\n",
       "│             ┆           ┆       ┆       ┆   ┆ str       ┆             ┆ i64        ┆             │\n",
       "╞═════════════╪═══════════╪═══════╪═══════╪═══╪═══════════╪═════════════╪════════════╪═════════════╡\n",
       "│ 2020-04-30  ┆ 214.7     ┆ 217.8 ┆ 208.0 ┆ … ┆ Adidas    ┆ Sportartike ┆ 18         ┆ Konsumgüter │\n",
       "│ 00:00:00    ┆           ┆       ┆       ┆   ┆           ┆ l           ┆            ┆             │\n",
       "│ 2020-04-29  ┆ 204.1     ┆ 213.6 ┆ 199.7 ┆ … ┆ Adidas    ┆ Sportartike ┆ 18         ┆ Konsumgüter │\n",
       "│ 00:00:00    ┆           ┆       ┆       ┆   ┆           ┆ l           ┆            ┆             │\n",
       "│ 2020-04-28  ┆ 207.5     ┆ 210.2 ┆ 201.5 ┆ … ┆ Adidas    ┆ Sportartike ┆ 18         ┆ Konsumgüter │\n",
       "│ 00:00:00    ┆           ┆       ┆       ┆   ┆           ┆ l           ┆            ┆             │\n",
       "│ 2020-04-27  ┆ 198.25    ┆ 216.4 ┆ 197.2 ┆ … ┆ Adidas    ┆ Sportartike ┆ 18         ┆ Konsumgüter │\n",
       "│ 00:00:00    ┆           ┆       ┆       ┆   ┆           ┆ l           ┆            ┆             │\n",
       "│ 2020-04-24  ┆ 203.6     ┆ 207.7 ┆ 202.2 ┆ … ┆ Adidas    ┆ Sportartike ┆ 17         ┆ Konsumgüter │\n",
       "│ 00:00:00    ┆           ┆       ┆       ┆   ┆           ┆ l           ┆            ┆             │\n",
       "└─────────────┴───────────┴───────┴───────┴───┴───────────┴─────────────┴────────────┴─────────────┘"
      ]
     },
     "execution_count": 107,
     "metadata": {},
     "output_type": "execute_result"
    }
   ],
   "source": [
    "stock.select(pl.exclude([\"Volumen\"])).head()"
   ]
  },
  {
   "attachments": {},
   "cell_type": "markdown",
   "metadata": {},
   "source": [
    "# Filtering"
   ]
  },
  {
   "cell_type": "code",
   "execution_count": 123,
   "metadata": {},
   "outputs": [
    {
     "data": {
      "text/html": [
       "<div><style>\n",
       ".dataframe > thead > tr > th,\n",
       ".dataframe > tbody > tr > td {\n",
       "  text-align: right;\n",
       "}\n",
       "</style>\n",
       "<small>shape: (346, 10)</small><table border=\"1\" class=\"dataframe\"><thead><tr><th>Datum</th><th>Eröffnung</th><th>Hoch</th><th>Tief</th><th>Schluss</th><th>Volumen</th><th>Unternehmen</th><th>Branche</th><th>Kalenderwoche</th><th>Sektor</th></tr><tr><td>str</td><td>f64</td><td>f64</td><td>f64</td><td>f64</td><td>i64</td><td>str</td><td>str</td><td>i64</td><td>str</td></tr></thead><tbody><tr><td>&quot;2020-04-03 00:…</td><td>195.7</td><td>196.75</td><td>188.0</td><td>188.55</td><td>1103716</td><td>&quot;Adidas&quot;</td><td>&quot;Sportartikel&quot;</td><td>14</td><td>&quot;Konsumgüter&quot;</td></tr><tr><td>&quot;2020-04-02 00:…</td><td>200.2</td><td>202.0</td><td>194.2</td><td>197.75</td><td>879102</td><td>&quot;Adidas&quot;</td><td>&quot;Sportartikel&quot;</td><td>14</td><td>&quot;Konsumgüter&quot;</td></tr><tr><td>&quot;2020-04-03 00:…</td><td>41.42</td><td>41.435</td><td>40.53</td><td>40.755</td><td>5819944</td><td>&quot;BASF&quot;</td><td>&quot;Chemie&quot;</td><td>14</td><td>&quot;Chemie / Pharm…</td></tr><tr><td>&quot;2020-04-02 00:…</td><td>41.6</td><td>41.89</td><td>40.415</td><td>41.58</td><td>5797128</td><td>&quot;BASF&quot;</td><td>&quot;Chemie&quot;</td><td>14</td><td>&quot;Chemie / Pharm…</td></tr><tr><td>&quot;2020-04-03 00:…</td><td>88.78</td><td>91.52</td><td>88.52</td><td>89.72</td><td>470463</td><td>&quot;Beiersdorf&quot;</td><td>&quot;Drogerie und K…</td><td>14</td><td>null</td></tr><tr><td>&quot;2020-04-02 00:…</td><td>88.6</td><td>89.62</td><td>88.04</td><td>89.62</td><td>618103</td><td>&quot;Beiersdorf&quot;</td><td>&quot;Drogerie und K…</td><td>14</td><td>null</td></tr><tr><td>&quot;2020-04-03 00:…</td><td>60.0</td><td>61.84</td><td>59.06</td><td>60.04</td><td>639221</td><td>&quot;Continental&quot;</td><td>&quot;Automobilzulie…</td><td>14</td><td>null</td></tr><tr><td>&quot;2020-04-02 00:…</td><td>60.32</td><td>62.94</td><td>58.5</td><td>60.18</td><td>1382496</td><td>&quot;Continental&quot;</td><td>&quot;Automobilzulie…</td><td>14</td><td>null</td></tr><tr><td>&quot;2020-04-03 00:…</td><td>120.25</td><td>126.35</td><td>120.1</td><td>125.1</td><td>748316</td><td>&quot;Deutsche Börse…</td><td>&quot;Finanzdienstle…</td><td>14</td><td>&quot;Finanzsektor&quot;</td></tr><tr><td>&quot;2020-04-02 00:…</td><td>121.4</td><td>121.95</td><td>116.55</td><td>119.9</td><td>744486</td><td>&quot;Deutsche Börse…</td><td>&quot;Finanzdienstle…</td><td>14</td><td>&quot;Finanzsektor&quot;</td></tr><tr><td>&quot;2020-04-03 00:…</td><td>25.15</td><td>25.35</td><td>24.3</td><td>24.52</td><td>5796331</td><td>&quot;Daimler&quot;</td><td>&quot;Automobilprodu…</td><td>14</td><td>&quot;Kraftfahrzeugi…</td></tr><tr><td>&quot;2020-04-02 00:…</td><td>25.75</td><td>26.59</td><td>24.315</td><td>25.175</td><td>8251815</td><td>&quot;Daimler&quot;</td><td>&quot;Automobilprodu…</td><td>14</td><td>&quot;Kraftfahrzeugi…</td></tr><tr><td>&hellip;</td><td>&hellip;</td><td>&hellip;</td><td>&hellip;</td><td>&hellip;</td><td>&hellip;</td><td>&hellip;</td><td>&hellip;</td><td>&hellip;</td><td>&hellip;</td></tr><tr><td>&quot;2020-04-03 00:…</td><td>24.8</td><td>25.2</td><td>24.8</td><td>25.2</td><td>9896</td><td>&quot;McKesson Europ…</td><td>&quot;Pharmahandel&quot;</td><td>14</td><td>&quot;Chemie / Pharm…</td></tr><tr><td>&quot;2020-04-02 00:…</td><td>24.6</td><td>25.8</td><td>24.6</td><td>24.8</td><td>12255</td><td>&quot;McKesson Europ…</td><td>&quot;Pharmahandel&quot;</td><td>14</td><td>&quot;Chemie / Pharm…</td></tr><tr><td>&quot;2020-04-03 00:…</td><td>29.25</td><td>29.5</td><td>28.75</td><td>29.0</td><td>10811</td><td>&quot;Vossloh&quot;</td><td>&quot;Elektrotechnol…</td><td>14</td><td>&quot;Technologie&quot;</td></tr><tr><td>&quot;2020-04-02 00:…</td><td>29.6</td><td>29.6</td><td>27.8</td><td>29.0</td><td>18676</td><td>&quot;Vossloh&quot;</td><td>&quot;Elektrotechnol…</td><td>14</td><td>&quot;Technologie&quot;</td></tr><tr><td>&quot;2020-04-03 00:…</td><td>4.7</td><td>4.775</td><td>4.675</td><td>4.74</td><td>52524</td><td>&quot;MLP&quot;</td><td>&quot;Finanzdienstle…</td><td>14</td><td>&quot;Finanzsektor&quot;</td></tr><tr><td>&quot;2020-04-02 00:…</td><td>4.705</td><td>4.815</td><td>4.65</td><td>4.715</td><td>105833</td><td>&quot;MLP&quot;</td><td>&quot;Finanzdienstle…</td><td>14</td><td>&quot;Finanzsektor&quot;</td></tr><tr><td>&quot;2020-04-03 00:…</td><td>1.17</td><td>1.17</td><td>1.17</td><td>1.17</td><td>0</td><td>&quot;MPC Münchmeyer…</td><td>&quot;Finanzdienstle…</td><td>14</td><td>&quot;Finanzsektor&quot;</td></tr><tr><td>&quot;2020-04-02 00:…</td><td>1.14</td><td>1.16</td><td>1.14</td><td>1.16</td><td>867</td><td>&quot;MPC Münchmeyer…</td><td>&quot;Finanzdienstle…</td><td>14</td><td>&quot;Finanzsektor&quot;</td></tr><tr><td>&quot;2020-04-03 00:…</td><td>38.565</td><td>39.4</td><td>37.255</td><td>38.92</td><td>543634</td><td>&quot;TeamViewer&quot;</td><td>&quot;Standardsoftwa…</td><td>14</td><td>&quot;Software&quot;</td></tr><tr><td>&quot;2020-04-02 00:…</td><td>37.235</td><td>38.75</td><td>35.905</td><td>38.395</td><td>529738</td><td>&quot;TeamViewer&quot;</td><td>&quot;Standardsoftwa…</td><td>14</td><td>&quot;Software&quot;</td></tr><tr><td>&quot;2020-04-03 00:…</td><td>33.93</td><td>34.99</td><td>33.64</td><td>34.05</td><td>544570</td><td>&quot;Brenntag&quot;</td><td>&quot;Sonstige Branc…</td><td>14</td><td>&quot;Diverse&quot;</td></tr><tr><td>&quot;2020-04-02 00:…</td><td>33.02</td><td>34.02</td><td>32.39</td><td>34.02</td><td>460899</td><td>&quot;Brenntag&quot;</td><td>&quot;Sonstige Branc…</td><td>14</td><td>&quot;Diverse&quot;</td></tr></tbody></table></div>"
      ],
      "text/plain": [
       "shape: (346, 10)\n",
       "┌─────────────┬───────────┬────────┬────────┬───┬───────────┬────────────┬────────────┬────────────┐\n",
       "│ Datum       ┆ Eröffnung ┆ Hoch   ┆ Tief   ┆ … ┆ Unternehm ┆ Branche    ┆ Kalenderwo ┆ Sektor     │\n",
       "│ ---         ┆ ---       ┆ ---    ┆ ---    ┆   ┆ en        ┆ ---        ┆ che        ┆ ---        │\n",
       "│ str         ┆ f64       ┆ f64    ┆ f64    ┆   ┆ ---       ┆ str        ┆ ---        ┆ str        │\n",
       "│             ┆           ┆        ┆        ┆   ┆ str       ┆            ┆ i64        ┆            │\n",
       "╞═════════════╪═══════════╪════════╪════════╪═══╪═══════════╪════════════╪════════════╪════════════╡\n",
       "│ 2020-04-03  ┆ 195.7     ┆ 196.75 ┆ 188.0  ┆ … ┆ Adidas    ┆ Sportartik ┆ 14         ┆ Konsumgüte │\n",
       "│ 00:00:00    ┆           ┆        ┆        ┆   ┆           ┆ el         ┆            ┆ r          │\n",
       "│ 2020-04-02  ┆ 200.2     ┆ 202.0  ┆ 194.2  ┆ … ┆ Adidas    ┆ Sportartik ┆ 14         ┆ Konsumgüte │\n",
       "│ 00:00:00    ┆           ┆        ┆        ┆   ┆           ┆ el         ┆            ┆ r          │\n",
       "│ 2020-04-03  ┆ 41.42     ┆ 41.435 ┆ 40.53  ┆ … ┆ BASF      ┆ Chemie     ┆ 14         ┆ Chemie /   │\n",
       "│ 00:00:00    ┆           ┆        ┆        ┆   ┆           ┆            ┆            ┆ Pharma /   │\n",
       "│             ┆           ┆        ┆        ┆   ┆           ┆            ┆            ┆ Gesundheit │\n",
       "│ 2020-04-02  ┆ 41.6      ┆ 41.89  ┆ 40.415 ┆ … ┆ BASF      ┆ Chemie     ┆ 14         ┆ Chemie /   │\n",
       "│ 00:00:00    ┆           ┆        ┆        ┆   ┆           ┆            ┆            ┆ Pharma /   │\n",
       "│             ┆           ┆        ┆        ┆   ┆           ┆            ┆            ┆ Gesundheit │\n",
       "│ …           ┆ …         ┆ …      ┆ …      ┆ … ┆ …         ┆ …          ┆ …          ┆ …          │\n",
       "│ 2020-04-03  ┆ 38.565    ┆ 39.4   ┆ 37.255 ┆ … ┆ TeamViewe ┆ Standardso ┆ 14         ┆ Software   │\n",
       "│ 00:00:00    ┆           ┆        ┆        ┆   ┆ r         ┆ ftware     ┆            ┆            │\n",
       "│ 2020-04-02  ┆ 37.235    ┆ 38.75  ┆ 35.905 ┆ … ┆ TeamViewe ┆ Standardso ┆ 14         ┆ Software   │\n",
       "│ 00:00:00    ┆           ┆        ┆        ┆   ┆ r         ┆ ftware     ┆            ┆            │\n",
       "│ 2020-04-03  ┆ 33.93     ┆ 34.99  ┆ 33.64  ┆ … ┆ Brenntag  ┆ Sonstige   ┆ 14         ┆ Diverse    │\n",
       "│ 00:00:00    ┆           ┆        ┆        ┆   ┆           ┆ Branchen   ┆            ┆            │\n",
       "│ 2020-04-02  ┆ 33.02     ┆ 34.02  ┆ 32.39  ┆ … ┆ Brenntag  ┆ Sonstige   ┆ 14         ┆ Diverse    │\n",
       "│ 00:00:00    ┆           ┆        ┆        ┆   ┆           ┆ Branchen   ┆            ┆            │\n",
       "└─────────────┴───────────┴────────┴────────┴───┴───────────┴────────────┴────────────┴────────────┘"
      ]
     },
     "execution_count": 123,
     "metadata": {},
     "output_type": "execute_result"
    }
   ],
   "source": [
    "stock.filter(pl.col(\"Datum\").is_between(datetime(2020, 4, 1), datetime(2020, 4, 5)))"
   ]
  },
  {
   "cell_type": "code",
   "execution_count": 127,
   "metadata": {},
   "outputs": [
    {
     "data": {
      "text/html": [
       "<div><style>\n",
       ".dataframe > thead > tr > th,\n",
       ".dataframe > tbody > tr > td {\n",
       "  text-align: right;\n",
       "}\n",
       "</style>\n",
       "<small>shape: (7, 10)</small><table border=\"1\" class=\"dataframe\"><thead><tr><th>Datum</th><th>Eröffnung</th><th>Hoch</th><th>Tief</th><th>Schluss</th><th>Volumen</th><th>Unternehmen</th><th>Branche</th><th>Kalenderwoche</th><th>Sektor</th></tr><tr><td>str</td><td>f64</td><td>f64</td><td>f64</td><td>f64</td><td>i64</td><td>str</td><td>str</td><td>i64</td><td>str</td></tr></thead><tbody><tr><td>&quot;2020-03-20 00:…</td><td>47.1</td><td>51.95</td><td>46.2</td><td>50.05</td><td>309897</td><td>&quot;GRENKE&quot;</td><td>&quot;IT-Dienstleist…</td><td>12</td><td>&quot;Informationste…</td></tr><tr><td>&quot;2020-02-26 00:…</td><td>48.0</td><td>51.6</td><td>48.0</td><td>51.2</td><td>67635</td><td>&quot;Stabilus&quot;</td><td>&quot;Sonstige Branc…</td><td>9</td><td>&quot;Diverse&quot;</td></tr><tr><td>&quot;2020-03-04 00:…</td><td>48.65</td><td>50.9</td><td>48.55</td><td>50.9</td><td>20676</td><td>&quot;WashTec&quot;</td><td>&quot;Sonstige Kraft…</td><td>10</td><td>&quot;Kraftfahrzeugi…</td></tr><tr><td>&quot;2020-04-22 00:…</td><td>48.8</td><td>50.3</td><td>48.1</td><td>50.3</td><td>12287</td><td>&quot;KWS SAAT&quot;</td><td>&quot;Sonstige Branc…</td><td>17</td><td>&quot;Diverse&quot;</td></tr><tr><td>&quot;2020-02-28 00:…</td><td>48.6</td><td>52.3</td><td>48.6</td><td>51.0</td><td>50509</td><td>&quot;KWS SAAT&quot;</td><td>&quot;Sonstige Branc…</td><td>9</td><td>&quot;Diverse&quot;</td></tr><tr><td>&quot;2020-03-26 00:…</td><td>48.62</td><td>53.0</td><td>47.96</td><td>53.0</td><td>123900</td><td>&quot;CompuGroup Med…</td><td>&quot;Softwareservic…</td><td>13</td><td>&quot;Software&quot;</td></tr><tr><td>&quot;2020-04-03 00:…</td><td>48.16</td><td>52.35</td><td>47.7</td><td>51.0</td><td>12351</td><td>&quot;Axel Springer&quot;</td><td>&quot;Printmedien (Z…</td><td>14</td><td>&quot;Medien / Enter…</td></tr></tbody></table></div>"
      ],
      "text/plain": [
       "shape: (7, 10)\n",
       "┌─────────────┬───────────┬───────┬───────┬───┬───────────┬─────────────┬────────────┬─────────────┐\n",
       "│ Datum       ┆ Eröffnung ┆ Hoch  ┆ Tief  ┆ … ┆ Unternehm ┆ Branche     ┆ Kalenderwo ┆ Sektor      │\n",
       "│ ---         ┆ ---       ┆ ---   ┆ ---   ┆   ┆ en        ┆ ---         ┆ che        ┆ ---         │\n",
       "│ str         ┆ f64       ┆ f64   ┆ f64   ┆   ┆ ---       ┆ str         ┆ ---        ┆ str         │\n",
       "│             ┆           ┆       ┆       ┆   ┆ str       ┆             ┆ i64        ┆             │\n",
       "╞═════════════╪═══════════╪═══════╪═══════╪═══╪═══════════╪═════════════╪════════════╪═════════════╡\n",
       "│ 2020-03-20  ┆ 47.1      ┆ 51.95 ┆ 46.2  ┆ … ┆ GRENKE    ┆ IT-Dienstle ┆ 12         ┆ Information │\n",
       "│ 00:00:00    ┆           ┆       ┆       ┆   ┆           ┆ istungen    ┆            ┆ stechnologi │\n",
       "│             ┆           ┆       ┆       ┆   ┆           ┆             ┆            ┆ e           │\n",
       "│ 2020-02-26  ┆ 48.0      ┆ 51.6  ┆ 48.0  ┆ … ┆ Stabilus  ┆ Sonstige    ┆ 9          ┆ Diverse     │\n",
       "│ 00:00:00    ┆           ┆       ┆       ┆   ┆           ┆ Branchen    ┆            ┆             │\n",
       "│ 2020-03-04  ┆ 48.65     ┆ 50.9  ┆ 48.55 ┆ … ┆ WashTec   ┆ Sonstige    ┆ 10         ┆ Kraftfahrze │\n",
       "│ 00:00:00    ┆           ┆       ┆       ┆   ┆           ┆ Kraftfahrze ┆            ┆ ugindustrie │\n",
       "│             ┆           ┆       ┆       ┆   ┆           ┆ ugindustrie ┆            ┆             │\n",
       "│ 2020-04-22  ┆ 48.8      ┆ 50.3  ┆ 48.1  ┆ … ┆ KWS SAAT  ┆ Sonstige    ┆ 17         ┆ Diverse     │\n",
       "│ 00:00:00    ┆           ┆       ┆       ┆   ┆           ┆ Branchen    ┆            ┆             │\n",
       "│ 2020-02-28  ┆ 48.6      ┆ 52.3  ┆ 48.6  ┆ … ┆ KWS SAAT  ┆ Sonstige    ┆ 9          ┆ Diverse     │\n",
       "│ 00:00:00    ┆           ┆       ┆       ┆   ┆           ┆ Branchen    ┆            ┆             │\n",
       "│ 2020-03-26  ┆ 48.62     ┆ 53.0  ┆ 47.96 ┆ … ┆ CompuGrou ┆ Softwareser ┆ 13         ┆ Software    │\n",
       "│ 00:00:00    ┆           ┆       ┆       ┆   ┆ p Medical ┆ vice / -die ┆            ┆             │\n",
       "│             ┆           ┆       ┆       ┆   ┆           ┆ nstleistun… ┆            ┆             │\n",
       "│ 2020-04-03  ┆ 48.16     ┆ 52.35 ┆ 47.7  ┆ … ┆ Axel      ┆ Printmedien ┆ 14         ┆ Medien /    │\n",
       "│ 00:00:00    ┆           ┆       ┆       ┆   ┆ Springer  ┆ (Zeitschrif ┆            ┆ Entertainme │\n",
       "│             ┆           ┆       ┆       ┆   ┆           ┆ ten und M…  ┆            ┆ nt /        │\n",
       "│             ┆           ┆       ┆       ┆   ┆           ┆             ┆            ┆ Freizei…    │\n",
       "└─────────────┴───────────┴───────┴───────┴───┴───────────┴─────────────┴────────────┴─────────────┘"
      ]
     },
     "execution_count": 127,
     "metadata": {},
     "output_type": "execute_result"
    }
   ],
   "source": [
    "stock.filter((pl.col(\"Schluss\") > 50) & (pl.col(\"Eröffnung\") < 49))"
   ]
  },
  {
   "attachments": {},
   "cell_type": "markdown",
   "metadata": {},
   "source": [
    "# Creating New Columns"
   ]
  },
  {
   "cell_type": "code",
   "execution_count": 132,
   "metadata": {},
   "outputs": [
    {
     "data": {
      "text/html": [
       "<div><style>\n",
       ".dataframe > thead > tr > th,\n",
       ".dataframe > tbody > tr > td {\n",
       "  text-align: right;\n",
       "}\n",
       "</style>\n",
       "<small>shape: (5, 12)</small><table border=\"1\" class=\"dataframe\"><thead><tr><th>Datum</th><th>Eröffnung</th><th>Hoch</th><th>Tief</th><th>Schluss</th><th>Volumen</th><th>Unternehmen</th><th>Branche</th><th>Kalenderwoche</th><th>Sektor</th><th>avg_eröffnung</th><th>Eröffnung über 20</th></tr><tr><td>str</td><td>f64</td><td>f64</td><td>f64</td><td>f64</td><td>i64</td><td>str</td><td>str</td><td>i64</td><td>str</td><td>f64</td><td>bool</td></tr></thead><tbody><tr><td>&quot;2020-04-30 00:…</td><td>214.7</td><td>217.8</td><td>208.0</td><td>209.2</td><td>1247587</td><td>&quot;Adidas&quot;</td><td>&quot;Sportartikel&quot;</td><td>18</td><td>&quot;Konsumgüter&quot;</td><td>50.199446</td><td>true</td></tr><tr><td>&quot;2020-04-29 00:…</td><td>204.1</td><td>213.6</td><td>199.7</td><td>212.5</td><td>1214197</td><td>&quot;Adidas&quot;</td><td>&quot;Sportartikel&quot;</td><td>18</td><td>&quot;Konsumgüter&quot;</td><td>50.199446</td><td>true</td></tr><tr><td>&quot;2020-04-28 00:…</td><td>207.5</td><td>210.2</td><td>201.5</td><td>205.4</td><td>963143</td><td>&quot;Adidas&quot;</td><td>&quot;Sportartikel&quot;</td><td>18</td><td>&quot;Konsumgüter&quot;</td><td>50.199446</td><td>true</td></tr><tr><td>&quot;2020-04-27 00:…</td><td>198.25</td><td>216.4</td><td>197.2</td><td>206.8</td><td>1409663</td><td>&quot;Adidas&quot;</td><td>&quot;Sportartikel&quot;</td><td>18</td><td>&quot;Konsumgüter&quot;</td><td>50.199446</td><td>true</td></tr><tr><td>&quot;2020-04-24 00:…</td><td>203.6</td><td>207.7</td><td>202.2</td><td>205.4</td><td>878116</td><td>&quot;Adidas&quot;</td><td>&quot;Sportartikel&quot;</td><td>17</td><td>&quot;Konsumgüter&quot;</td><td>50.199446</td><td>true</td></tr></tbody></table></div>"
      ],
      "text/plain": [
       "shape: (5, 12)\n",
       "┌─────────────┬───────────┬───────┬───────┬───┬────────────┬─────────────┬────────────┬────────────┐\n",
       "│ Datum       ┆ Eröffnung ┆ Hoch  ┆ Tief  ┆ … ┆ Kalenderwo ┆ Sektor      ┆ avg_eröffn ┆ Eröffnung  │\n",
       "│ ---         ┆ ---       ┆ ---   ┆ ---   ┆   ┆ che        ┆ ---         ┆ ung        ┆ über 20    │\n",
       "│ str         ┆ f64       ┆ f64   ┆ f64   ┆   ┆ ---        ┆ str         ┆ ---        ┆ ---        │\n",
       "│             ┆           ┆       ┆       ┆   ┆ i64        ┆             ┆ f64        ┆ bool       │\n",
       "╞═════════════╪═══════════╪═══════╪═══════╪═══╪════════════╪═════════════╪════════════╪════════════╡\n",
       "│ 2020-04-30  ┆ 214.7     ┆ 217.8 ┆ 208.0 ┆ … ┆ 18         ┆ Konsumgüter ┆ 50.199446  ┆ true       │\n",
       "│ 00:00:00    ┆           ┆       ┆       ┆   ┆            ┆             ┆            ┆            │\n",
       "│ 2020-04-29  ┆ 204.1     ┆ 213.6 ┆ 199.7 ┆ … ┆ 18         ┆ Konsumgüter ┆ 50.199446  ┆ true       │\n",
       "│ 00:00:00    ┆           ┆       ┆       ┆   ┆            ┆             ┆            ┆            │\n",
       "│ 2020-04-28  ┆ 207.5     ┆ 210.2 ┆ 201.5 ┆ … ┆ 18         ┆ Konsumgüter ┆ 50.199446  ┆ true       │\n",
       "│ 00:00:00    ┆           ┆       ┆       ┆   ┆            ┆             ┆            ┆            │\n",
       "│ 2020-04-27  ┆ 198.25    ┆ 216.4 ┆ 197.2 ┆ … ┆ 18         ┆ Konsumgüter ┆ 50.199446  ┆ true       │\n",
       "│ 00:00:00    ┆           ┆       ┆       ┆   ┆            ┆             ┆            ┆            │\n",
       "│ 2020-04-24  ┆ 203.6     ┆ 207.7 ┆ 202.2 ┆ … ┆ 17         ┆ Konsumgüter ┆ 50.199446  ┆ true       │\n",
       "│ 00:00:00    ┆           ┆       ┆       ┆   ┆            ┆             ┆            ┆            │\n",
       "└─────────────┴───────────┴───────┴───────┴───┴────────────┴─────────────┴────────────┴────────────┘"
      ]
     },
     "execution_count": 132,
     "metadata": {},
     "output_type": "execute_result"
    }
   ],
   "source": [
    "stock.with_columns(\n",
    "    [\n",
    "        pl.col(\"Eröffnung\").mean().alias(\"avg_eröffnung\"),\n",
    "        (pl.col(\"Eröffnung\") > 20).alias(\"Eröffnung über 20\"),\n",
    "    ]\n",
    ").head()"
   ]
  },
  {
   "attachments": {},
   "cell_type": "markdown",
   "metadata": {},
   "source": [
    "# Groupby"
   ]
  },
  {
   "cell_type": "code",
   "execution_count": 133,
   "metadata": {},
   "outputs": [
    {
     "data": {
      "text/html": [
       "<div><style>\n",
       ".dataframe > thead > tr > th,\n",
       ".dataframe > tbody > tr > td {\n",
       "  text-align: right;\n",
       "}\n",
       "</style>\n",
       "<small>shape: (173, 3)</small><table border=\"1\" class=\"dataframe\"><thead><tr><th>Unternehmen</th><th>avg_Eröffnung</th><th>max_Eröffnung</th></tr><tr><td>str</td><td>f64</td><td>f64</td></tr></thead><tbody><tr><td>&quot;Adidas&quot;</td><td>220.980577</td><td>292.5</td></tr><tr><td>&quot;BASF&quot;</td><td>47.788077</td><td>61.94</td></tr><tr><td>&quot;Beiersdorf&quot;</td><td>94.691346</td><td>107.45</td></tr><tr><td>&quot;Continental&quot;</td><td>78.465</td><td>112.74</td></tr><tr><td>&quot;Deutsche Börse…</td><td>133.8025</td><td>156.8</td></tr><tr><td>&quot;Daimler&quot;</td><td>31.223654</td><td>43.7</td></tr><tr><td>&quot;Deutsche Telek…</td><td>13.218019</td><td>16.6</td></tr><tr><td>&quot;HeidelbergCeme…</td><td>44.683654</td><td>64.04</td></tr><tr><td>&quot;Fresenius&quot;</td><td>38.250096</td><td>49.54</td></tr><tr><td>&quot;Infineon Techn…</td><td>16.260481</td><td>22.595</td></tr><tr><td>&quot;MTU Aero Engin…</td><td>163.084615</td><td>282.1</td></tr><tr><td>&quot;Deutsche Lufth…</td><td>10.174538</td><td>15.36</td></tr><tr><td>&hellip;</td><td>&hellip;</td><td>&hellip;</td></tr><tr><td>&quot;Bauer&quot;</td><td>11.845</td><td>16.1</td></tr><tr><td>&quot;GSW Immobilien…</td><td>80.653846</td><td>92.0</td></tr><tr><td>&quot;KUKA&quot;</td><td>31.259615</td><td>38.0</td></tr><tr><td>&quot;Axel Springer&quot;</td><td>60.740556</td><td>63.05</td></tr><tr><td>&quot;Kabel Deutschl…</td><td>100.125</td><td>106.0</td></tr><tr><td>&quot;ElringKlinger&quot;</td><td>5.103077</td><td>7.64</td></tr><tr><td>&quot;McKesson Europ…</td><td>25.384615</td><td>26.2</td></tr><tr><td>&quot;Vossloh&quot;</td><td>33.191346</td><td>41.9</td></tr><tr><td>&quot;MLP&quot;</td><td>4.844038</td><td>5.95</td></tr><tr><td>&quot;MPC Münchmeyer…</td><td>1.41125</td><td>2.01</td></tr><tr><td>&quot;TeamViewer&quot;</td><td>34.259904</td><td>42.53</td></tr><tr><td>&quot;Brenntag&quot;</td><td>38.352308</td><td>49.52</td></tr></tbody></table></div>"
      ],
      "text/plain": [
       "shape: (173, 3)\n",
       "┌────────────────────────────┬───────────────┬───────────────┐\n",
       "│ Unternehmen                ┆ avg_Eröffnung ┆ max_Eröffnung │\n",
       "│ ---                        ┆ ---           ┆ ---           │\n",
       "│ str                        ┆ f64           ┆ f64           │\n",
       "╞════════════════════════════╪═══════════════╪═══════════════╡\n",
       "│ Adidas                     ┆ 220.980577    ┆ 292.5         │\n",
       "│ BASF                       ┆ 47.788077     ┆ 61.94         │\n",
       "│ Beiersdorf                 ┆ 94.691346     ┆ 107.45        │\n",
       "│ Continental                ┆ 78.465        ┆ 112.74        │\n",
       "│ …                          ┆ …             ┆ …             │\n",
       "│ MLP                        ┆ 4.844038      ┆ 5.95          │\n",
       "│ MPC Münchmeyer Peters.Cap. ┆ 1.41125       ┆ 2.01          │\n",
       "│ TeamViewer                 ┆ 34.259904     ┆ 42.53         │\n",
       "│ Brenntag                   ┆ 38.352308     ┆ 49.52         │\n",
       "└────────────────────────────┴───────────────┴───────────────┘"
      ]
     },
     "execution_count": 133,
     "metadata": {},
     "output_type": "execute_result"
    }
   ],
   "source": [
    "stock.groupby(\"Unternehmen\", maintain_order=True).agg(\n",
    "    [\n",
    "        pl.col(\"Eröffnung\").mean().alias(\"avg_Eröffnung\"),\n",
    "        pl.col(\"Eröffnung\").max().alias(\"max_Eröffnung\"),\n",
    "    ]\n",
    ")"
   ]
  },
  {
   "cell_type": "code",
   "execution_count": null,
   "metadata": {},
   "outputs": [],
   "source": []
  }
 ],
 "metadata": {
  "kernelspec": {
   "display_name": "polarsdemo",
   "language": "python",
   "name": "python3"
  },
  "language_info": {
   "codemirror_mode": {
    "name": "ipython",
    "version": 3
   },
   "file_extension": ".py",
   "mimetype": "text/x-python",
   "name": "python",
   "nbconvert_exporter": "python",
   "pygments_lexer": "ipython3",
   "version": "3.11.3"
  },
  "orig_nbformat": 4
 },
 "nbformat": 4,
 "nbformat_minor": 2
}
